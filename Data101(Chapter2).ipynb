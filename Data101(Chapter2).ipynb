{
  "nbformat": 4,
  "nbformat_minor": 0,
  "metadata": {
    "colab": {
      "name": "Data101(Chapter2).ipynb",
      "provenance": [],
      "authorship_tag": "ABX9TyNs5526no9P/z0HTPMu8q9N",
      "include_colab_link": true
    },
    "kernelspec": {
      "name": "python3",
      "display_name": "Python 3"
    },
    "language_info": {
      "name": "python"
    }
  },
  "cells": [
    {
      "cell_type": "markdown",
      "metadata": {
        "id": "view-in-github",
        "colab_type": "text"
      },
      "source": [
        "<a href=\"https://colab.research.google.com/github/Benza1611/DWDM21/blob/main/Data101(Chapter2).ipynb\" target=\"_parent\"><img src=\"https://colab.research.google.com/assets/colab-badge.svg\" alt=\"Open In Colab\"/></a>"
      ]
    },
    {
      "cell_type": "markdown",
      "metadata": {
        "id": "q53kAb1vz07H"
      },
      "source": [
        "ข้อความที่อยู่ใน textbox จะเป็นภาษา markdowm"
      ]
    },
    {
      "cell_type": "markdown",
      "metadata": {
        "id": "K89ObylvtmZJ"
      },
      "source": [
        "ข้อดีหนึ่งของ Python คือมี package สำหรับทำงานต่างๆมากมาย\n",
        "\n",
        "ซึ่ง pandas เป็น package สำหรับการทำงานกับข้อมูลที่อยู่ในรูปแบบตาราง\n",
        "\n",
        "โดย pandas จะเรียกตารางนั้นว่า Dataframe"
      ]
    },
    {
      "cell_type": "code",
      "metadata": {
        "id": "VU9fzcoTr9vZ"
      },
      "source": [
        "import pandas # วิธีเรียกใช้ package คือ import ตามด้วยชื่อ package"
      ],
      "execution_count": 5,
      "outputs": []
    },
    {
      "cell_type": "code",
      "metadata": {
        "id": "GJB1bgyxtAsN"
      },
      "source": [
        "import pandas as pd # เหมือนข้างบนแต่ว่า ตั้งชื่อให้ package ที่โหลดมาใหม่ว่า pd"
      ],
      "execution_count": 6,
      "outputs": []
    },
    {
      "cell_type": "markdown",
      "metadata": {
        "id": "UtuLzncMvAK4"
      },
      "source": [
        "ไฟล์ .csv (CSV = comma separated values) เป็นไฟล์หลักที่เราจะใช้กันในวิชานี้"
      ]
    },
    {
      "cell_type": "code",
      "metadata": {
        "id": "bcQDdu_1umI-"
      },
      "source": [
        "data_df = pd.read_csv('data.csv') # ใช้เรียก ไฟล์ data.csv แทนในตัวแปร data_df"
      ],
      "execution_count": 7,
      "outputs": []
    },
    {
      "cell_type": "code",
      "metadata": {
        "colab": {
          "base_uri": "https://localhost:8080/",
          "height": 143
        },
        "id": "pkSpYHpNxOPE",
        "outputId": "e027c6f2-13b6-47bf-e701-187e02aa5e10"
      },
      "source": [
        "data_df"
      ],
      "execution_count": 8,
      "outputs": [
        {
          "output_type": "execute_result",
          "data": {
            "text/html": [
              "<div>\n",
              "<style scoped>\n",
              "    .dataframe tbody tr th:only-of-type {\n",
              "        vertical-align: middle;\n",
              "    }\n",
              "\n",
              "    .dataframe tbody tr th {\n",
              "        vertical-align: top;\n",
              "    }\n",
              "\n",
              "    .dataframe thead th {\n",
              "        text-align: right;\n",
              "    }\n",
              "</style>\n",
              "<table border=\"1\" class=\"dataframe\">\n",
              "  <thead>\n",
              "    <tr style=\"text-align: right;\">\n",
              "      <th></th>\n",
              "      <th>name</th>\n",
              "      <th>age</th>\n",
              "      <th>city</th>\n",
              "    </tr>\n",
              "  </thead>\n",
              "  <tbody>\n",
              "    <tr>\n",
              "      <th>0</th>\n",
              "      <td>tom</td>\n",
              "      <td>27</td>\n",
              "      <td>Khon Kaen</td>\n",
              "    </tr>\n",
              "    <tr>\n",
              "      <th>1</th>\n",
              "      <td>Paul</td>\n",
              "      <td>15</td>\n",
              "      <td>Bangkok</td>\n",
              "    </tr>\n",
              "    <tr>\n",
              "      <th>2</th>\n",
              "      <td>Sarah</td>\n",
              "      <td>49</td>\n",
              "      <td>London</td>\n",
              "    </tr>\n",
              "  </tbody>\n",
              "</table>\n",
              "</div>"
            ],
            "text/plain": [
              "    name  age       city\n",
              "0    tom   27  Khon Kaen\n",
              "1   Paul   15    Bangkok\n",
              "2  Sarah   49     London"
            ]
          },
          "metadata": {
            "tags": []
          },
          "execution_count": 8
        }
      ]
    },
    {
      "cell_type": "code",
      "metadata": {
        "colab": {
          "base_uri": "https://localhost:8080/",
          "height": 143
        },
        "id": "qpF6lzpnxScA",
        "outputId": "a93368ae-caaa-4529-f900-35a98a585935"
      },
      "source": [
        "data_df2 = pandas.read_csv('data.csv')\n",
        "data_df2"
      ],
      "execution_count": 9,
      "outputs": [
        {
          "output_type": "execute_result",
          "data": {
            "text/html": [
              "<div>\n",
              "<style scoped>\n",
              "    .dataframe tbody tr th:only-of-type {\n",
              "        vertical-align: middle;\n",
              "    }\n",
              "\n",
              "    .dataframe tbody tr th {\n",
              "        vertical-align: top;\n",
              "    }\n",
              "\n",
              "    .dataframe thead th {\n",
              "        text-align: right;\n",
              "    }\n",
              "</style>\n",
              "<table border=\"1\" class=\"dataframe\">\n",
              "  <thead>\n",
              "    <tr style=\"text-align: right;\">\n",
              "      <th></th>\n",
              "      <th>name</th>\n",
              "      <th>age</th>\n",
              "      <th>city</th>\n",
              "    </tr>\n",
              "  </thead>\n",
              "  <tbody>\n",
              "    <tr>\n",
              "      <th>0</th>\n",
              "      <td>tom</td>\n",
              "      <td>27</td>\n",
              "      <td>Khon Kaen</td>\n",
              "    </tr>\n",
              "    <tr>\n",
              "      <th>1</th>\n",
              "      <td>Paul</td>\n",
              "      <td>15</td>\n",
              "      <td>Bangkok</td>\n",
              "    </tr>\n",
              "    <tr>\n",
              "      <th>2</th>\n",
              "      <td>Sarah</td>\n",
              "      <td>49</td>\n",
              "      <td>London</td>\n",
              "    </tr>\n",
              "  </tbody>\n",
              "</table>\n",
              "</div>"
            ],
            "text/plain": [
              "    name  age       city\n",
              "0    tom   27  Khon Kaen\n",
              "1   Paul   15    Bangkok\n",
              "2  Sarah   49     London"
            ]
          },
          "metadata": {
            "tags": []
          },
          "execution_count": 9
        }
      ]
    },
    {
      "cell_type": "markdown",
      "metadata": {
        "id": "-0bvh80EzwFU"
      },
      "source": [
        "#Basic Python\n",
        "## Variables"
      ]
    },
    {
      "cell_type": "markdown",
      "metadata": {
        "id": "tOM0MKeT1mXV"
      },
      "source": [
        "ข้อกำหนดในการตั้งชื่อตัวแปร\n",
        "\n",
        "1. ชื่อห้ามมีเว้นวรรค\n",
        "2. (พยายาม)ใช้ภาษาอังกฤษ\n",
        "3. ตัวเล็กกับตัวใหญ่แตกต่างกัน (case sensitive)\n",
        "4. ห้ามใช้ตัวเลขเป็นตัวหน้า"
      ]
    },
    {
      "cell_type": "code",
      "metadata": {
        "id": "48enFT4ZyStn"
      },
      "source": [
        "variable_a = 12\n",
        "variable_b = 'abcde'  # ' เรียกว่า quote\n",
        "variable_c = variable_a"
      ],
      "execution_count": 10,
      "outputs": []
    },
    {
      "cell_type": "code",
      "metadata": {
        "colab": {
          "base_uri": "https://localhost:8080/"
        },
        "id": "7wUjWYi-1Jzk",
        "outputId": "7bfec83a-af2e-46c4-b1c0-f54594fd7c61"
      },
      "source": [
        "variable_a"
      ],
      "execution_count": 11,
      "outputs": [
        {
          "output_type": "execute_result",
          "data": {
            "text/plain": [
              "12"
            ]
          },
          "metadata": {
            "tags": []
          },
          "execution_count": 11
        }
      ]
    },
    {
      "cell_type": "code",
      "metadata": {
        "colab": {
          "base_uri": "https://localhost:8080/",
          "height": 35
        },
        "id": "6XWnFKkr1KfJ",
        "outputId": "dda955e1-f916-499a-9196-011acf3ed3b3"
      },
      "source": [
        "variable_b"
      ],
      "execution_count": 12,
      "outputs": [
        {
          "output_type": "execute_result",
          "data": {
            "application/vnd.google.colaboratory.intrinsic+json": {
              "type": "string"
            },
            "text/plain": [
              "'abcde'"
            ]
          },
          "metadata": {
            "tags": []
          },
          "execution_count": 12
        }
      ]
    },
    {
      "cell_type": "code",
      "metadata": {
        "colab": {
          "base_uri": "https://localhost:8080/"
        },
        "id": "g4cHbB4D1M1v",
        "outputId": "4c2d93ac-d0e7-4fe1-b9af-784339df07ba"
      },
      "source": [
        "variable_c"
      ],
      "execution_count": 13,
      "outputs": [
        {
          "output_type": "execute_result",
          "data": {
            "text/plain": [
              "12"
            ]
          },
          "metadata": {
            "tags": []
          },
          "execution_count": 13
        }
      ]
    },
    {
      "cell_type": "code",
      "metadata": {
        "colab": {
          "base_uri": "https://localhost:8080/",
          "height": 131
        },
        "id": "dXzQhMHf1ONx",
        "outputId": "a2cda73e-aea1-48b8-93ff-b6f326cd3712"
      },
      "source": [
        "#ชื่อห้ามมีเว้นวรรค\n",
        "variable a = 6"
      ],
      "execution_count": 15,
      "outputs": [
        {
          "output_type": "error",
          "ename": "SyntaxError",
          "evalue": "ignored",
          "traceback": [
            "\u001b[0;36m  File \u001b[0;32m\"<ipython-input-15-67da5c6c279d>\"\u001b[0;36m, line \u001b[0;32m2\u001b[0m\n\u001b[0;31m    variable a = 6\u001b[0m\n\u001b[0m             ^\u001b[0m\n\u001b[0;31mSyntaxError\u001b[0m\u001b[0;31m:\u001b[0m invalid syntax\n"
          ]
        }
      ]
    },
    {
      "cell_type": "code",
      "metadata": {
        "colab": {
          "base_uri": "https://localhost:8080/"
        },
        "id": "vtJAB0Uj2HX-",
        "outputId": "710cc819-f203-4e7a-c2e5-917b7a6db88b"
      },
      "source": [
        "# (พยายาม)ใช้ภาษาอังกฤษ\n",
        "#colab ใช้ภาษาไทยเป็นชื่อตัวแปรได้ แต่ไม่ควรใช้\n",
        "ตัวแปร = 3\n",
        "ตัวแปร"
      ],
      "execution_count": 16,
      "outputs": [
        {
          "output_type": "execute_result",
          "data": {
            "text/plain": [
              "3"
            ]
          },
          "metadata": {
            "tags": []
          },
          "execution_count": 16
        }
      ]
    },
    {
      "cell_type": "code",
      "metadata": {
        "colab": {
          "base_uri": "https://localhost:8080/"
        },
        "id": "hONtFQRA2RLe",
        "outputId": "e34b8097-a02a-48d3-878c-8107026d02aa"
      },
      "source": [
        "#ตัวเล็กกับตัวใหญ่แตกต่างกัน (case sensitive)\n",
        "v_a = 1 \n",
        "V_a = 2 \n",
        "print(v_a)\n",
        "print(V_a)"
      ],
      "execution_count": 17,
      "outputs": [
        {
          "output_type": "stream",
          "text": [
            "1\n",
            "2\n"
          ],
          "name": "stdout"
        }
      ]
    },
    {
      "cell_type": "code",
      "metadata": {
        "colab": {
          "base_uri": "https://localhost:8080/"
        },
        "id": "TF-ujxkh3IaV",
        "outputId": "17810b85-b21d-460f-f124-4365d2d58814"
      },
      "source": [
        "#ตัวเล็กกับตัวใหญ่แตกต่างกัน (case sensitive)\n",
        "v_a = 1 \n",
        "v_a = 2 \n",
        "print(v_a)\n",
        "print(v_a)"
      ],
      "execution_count": 18,
      "outputs": [
        {
          "output_type": "stream",
          "text": [
            "2\n",
            "2\n"
          ],
          "name": "stdout"
        }
      ]
    },
    {
      "cell_type": "code",
      "metadata": {
        "colab": {
          "base_uri": "https://localhost:8080/",
          "height": 131
        },
        "id": "sDcMOt2X3ldq",
        "outputId": "237d964f-58d7-4345-f988-e9301eb17039"
      },
      "source": [
        "#ห้ามใช้ตัวเลขเป็นตัวหน้า\n",
        "2 = 1"
      ],
      "execution_count": 19,
      "outputs": [
        {
          "output_type": "error",
          "ename": "SyntaxError",
          "evalue": "ignored",
          "traceback": [
            "\u001b[0;36m  File \u001b[0;32m\"<ipython-input-19-2d4ad990ef8c>\"\u001b[0;36m, line \u001b[0;32m2\u001b[0m\n\u001b[0;31m    2 = 1\u001b[0m\n\u001b[0m         ^\u001b[0m\n\u001b[0;31mSyntaxError\u001b[0m\u001b[0;31m:\u001b[0m can't assign to literal\n"
          ]
        }
      ]
    },
    {
      "cell_type": "code",
      "metadata": {
        "colab": {
          "base_uri": "https://localhost:8080/",
          "height": 131
        },
        "id": "dinoZD9N3tQd",
        "outputId": "9ab0a6c4-eb24-4309-c70b-c9a90e9b69af"
      },
      "source": [
        "#ห้ามใช้ตัวเลขเป็นตัวหน้า\n",
        "2ab = 1"
      ],
      "execution_count": 20,
      "outputs": [
        {
          "output_type": "error",
          "ename": "SyntaxError",
          "evalue": "ignored",
          "traceback": [
            "\u001b[0;36m  File \u001b[0;32m\"<ipython-input-20-b408d3f2d8a4>\"\u001b[0;36m, line \u001b[0;32m2\u001b[0m\n\u001b[0;31m    2ab = 1\u001b[0m\n\u001b[0m      ^\u001b[0m\n\u001b[0;31mSyntaxError\u001b[0m\u001b[0;31m:\u001b[0m invalid syntax\n"
          ]
        }
      ]
    },
    {
      "cell_type": "code",
      "metadata": {
        "colab": {
          "base_uri": "https://localhost:8080/"
        },
        "id": "FRFsc6NY3wy5",
        "outputId": "cc78a4a3-04f4-4634-a539-1693a038c98c"
      },
      "source": [
        "#ห้ามใช้ตัวเลขเป็นตัวหน้า\n",
        "variable1 = 1 \n",
        "print(variable1)"
      ],
      "execution_count": 21,
      "outputs": [
        {
          "output_type": "stream",
          "text": [
            "1\n"
          ],
          "name": "stdout"
        }
      ]
    },
    {
      "cell_type": "code",
      "metadata": {
        "id": "4EzzkFvM35g9"
      },
      "source": [
        "variable_a = 12\n",
        "variable_b = 'abcde'  # ' เรียกว่า quote\n",
        "variable_c = variable_a\n",
        "variable_d = -41.2\n",
        "variable_4 = \"KKU\" # \"   เรียกว่า double quote"
      ],
      "execution_count": 22,
      "outputs": []
    },
    {
      "cell_type": "code",
      "metadata": {
        "colab": {
          "base_uri": "https://localhost:8080/"
        },
        "id": "9uoNn83q4nAO",
        "outputId": "b3430f3d-1c56-40fa-8de6-955d65423718"
      },
      "source": [
        "variable_x = variable_c + variable_d\n",
        "print(variable_x)"
      ],
      "execution_count": 23,
      "outputs": [
        {
          "output_type": "stream",
          "text": [
            "-29.200000000000003\n"
          ],
          "name": "stdout"
        }
      ]
    },
    {
      "cell_type": "code",
      "metadata": {
        "colab": {
          "base_uri": "https://localhost:8080/",
          "height": 166
        },
        "id": "23CiHII34zzS",
        "outputId": "8355a619-1462-4dcd-b991-1502a54d5e6e"
      },
      "source": [
        "variable_a + variable_b"
      ],
      "execution_count": 24,
      "outputs": [
        {
          "output_type": "error",
          "ename": "TypeError",
          "evalue": "ignored",
          "traceback": [
            "\u001b[0;31m---------------------------------------------------------------------------\u001b[0m",
            "\u001b[0;31mTypeError\u001b[0m                                 Traceback (most recent call last)",
            "\u001b[0;32m<ipython-input-24-ca279e5cd267>\u001b[0m in \u001b[0;36m<module>\u001b[0;34m()\u001b[0m\n\u001b[0;32m----> 1\u001b[0;31m \u001b[0mvariable_a\u001b[0m \u001b[0;34m+\u001b[0m \u001b[0mvariable_b\u001b[0m\u001b[0;34m\u001b[0m\u001b[0;34m\u001b[0m\u001b[0m\n\u001b[0m",
            "\u001b[0;31mTypeError\u001b[0m: unsupported operand type(s) for +: 'int' and 'str'"
          ]
        }
      ]
    },
    {
      "cell_type": "code",
      "metadata": {
        "id": "1a_jc5Wo6QzE"
      },
      "source": [
        "print(variable_b + variable_4)"
      ],
      "execution_count": null,
      "outputs": []
    },
    {
      "cell_type": "markdown",
      "metadata": {
        "id": "wIxGRTy87Ggz"
      },
      "source": [
        "#Casting\n",
        "## Casting int() float() str()"
      ]
    },
    {
      "cell_type": "code",
      "metadata": {
        "colab": {
          "base_uri": "https://localhost:8080/"
        },
        "id": "QKVLhopp6pas",
        "outputId": "b4e1e69b-3a7b-4134-e8f0-29d738ae4967"
      },
      "source": [
        "print(variable_x)\n",
        "print(int(variable_x))"
      ],
      "execution_count": 25,
      "outputs": [
        {
          "output_type": "stream",
          "text": [
            "-29.200000000000003\n",
            "-29\n"
          ],
          "name": "stdout"
        }
      ]
    },
    {
      "cell_type": "code",
      "metadata": {
        "colab": {
          "base_uri": "https://localhost:8080/"
        },
        "id": "FxP1x5cG7cxk",
        "outputId": "3a5eaaac-17cf-4c03-9785-a08e71e94f7d"
      },
      "source": [
        "V_X = str(variable_x)\n",
        "print(V_X)"
      ],
      "execution_count": 26,
      "outputs": [
        {
          "output_type": "stream",
          "text": [
            "-29.200000000000003\n"
          ],
          "name": "stdout"
        }
      ]
    },
    {
      "cell_type": "code",
      "metadata": {
        "colab": {
          "base_uri": "https://localhost:8080/",
          "height": 166
        },
        "id": "GFtqpfrA76iH",
        "outputId": "1beda4d2-f592-42e4-d40a-733d0eb0ef5a"
      },
      "source": [
        "V_X + variable_a"
      ],
      "execution_count": 27,
      "outputs": [
        {
          "output_type": "error",
          "ename": "TypeError",
          "evalue": "ignored",
          "traceback": [
            "\u001b[0;31m---------------------------------------------------------------------------\u001b[0m",
            "\u001b[0;31mTypeError\u001b[0m                                 Traceback (most recent call last)",
            "\u001b[0;32m<ipython-input-27-d83c0918f5c6>\u001b[0m in \u001b[0;36m<module>\u001b[0;34m()\u001b[0m\n\u001b[0;32m----> 1\u001b[0;31m \u001b[0mV_X\u001b[0m \u001b[0;34m+\u001b[0m \u001b[0mvariable_a\u001b[0m\u001b[0;34m\u001b[0m\u001b[0;34m\u001b[0m\u001b[0m\n\u001b[0m",
            "\u001b[0;31mTypeError\u001b[0m: can only concatenate str (not \"int\") to str"
          ]
        }
      ]
    },
    {
      "cell_type": "code",
      "metadata": {
        "colab": {
          "base_uri": "https://localhost:8080/",
          "height": 166
        },
        "id": "WiXFFZZL8Cm4",
        "outputId": "a7705af1-1cf8-4467-ee22-d4821c62b9ae"
      },
      "source": [
        "variable_a + V_X "
      ],
      "execution_count": 28,
      "outputs": [
        {
          "output_type": "error",
          "ename": "TypeError",
          "evalue": "ignored",
          "traceback": [
            "\u001b[0;31m---------------------------------------------------------------------------\u001b[0m",
            "\u001b[0;31mTypeError\u001b[0m                                 Traceback (most recent call last)",
            "\u001b[0;32m<ipython-input-28-0a1cd1ca5ad3>\u001b[0m in \u001b[0;36m<module>\u001b[0;34m()\u001b[0m\n\u001b[0;32m----> 1\u001b[0;31m \u001b[0mvariable_a\u001b[0m \u001b[0;34m+\u001b[0m \u001b[0mV_X\u001b[0m\u001b[0;34m\u001b[0m\u001b[0;34m\u001b[0m\u001b[0m\n\u001b[0m",
            "\u001b[0;31mTypeError\u001b[0m: unsupported operand type(s) for +: 'int' and 'str'"
          ]
        }
      ]
    },
    {
      "cell_type": "code",
      "metadata": {
        "id": "Uw07wCel8G91"
      },
      "source": [
        "V_X"
      ],
      "execution_count": null,
      "outputs": []
    },
    {
      "cell_type": "code",
      "metadata": {
        "colab": {
          "base_uri": "https://localhost:8080/"
        },
        "id": "jB8mj4Jr8fBB",
        "outputId": "9ae53b6b-7cec-43d7-d53d-00594464c356"
      },
      "source": [
        "float(V_X)"
      ],
      "execution_count": 29,
      "outputs": [
        {
          "output_type": "execute_result",
          "data": {
            "text/plain": [
              "-29.200000000000003"
            ]
          },
          "metadata": {
            "tags": []
          },
          "execution_count": 29
        }
      ]
    },
    {
      "cell_type": "markdown",
      "metadata": {
        "id": "0FsgBS-G9Lod"
      },
      "source": [
        "#Data Structure\n",
        "##list()"
      ]
    },
    {
      "cell_type": "code",
      "metadata": {
        "id": "Sza526gr84PU"
      },
      "source": [
        "list_a = [1,2,0.2,'abs'] # [] square brackets\n",
        "list_b = [2,'xyz',list_a,[1,2,0.0]]"
      ],
      "execution_count": 30,
      "outputs": []
    },
    {
      "cell_type": "code",
      "metadata": {
        "colab": {
          "base_uri": "https://localhost:8080/"
        },
        "id": "OsyUE2mb96Ry",
        "outputId": "da2f3eca-71dd-4fa2-bc20-5b06296bc8ce"
      },
      "source": [
        "list_a # ลำดับมีความสำคัญ"
      ],
      "execution_count": 31,
      "outputs": [
        {
          "output_type": "execute_result",
          "data": {
            "text/plain": [
              "[1, 2, 0.2, 'abs']"
            ]
          },
          "metadata": {
            "tags": []
          },
          "execution_count": 31
        }
      ]
    },
    {
      "cell_type": "code",
      "metadata": {
        "colab": {
          "base_uri": "https://localhost:8080/"
        },
        "id": "EfOcw-bW97oX",
        "outputId": "ac7e187c-6ca8-4329-afaa-3af1e4a49323"
      },
      "source": [
        "list_b"
      ],
      "execution_count": 32,
      "outputs": [
        {
          "output_type": "execute_result",
          "data": {
            "text/plain": [
              "[2, 'xyz', [1, 2, 0.2, 'abs'], [1, 2, 0.0]]"
            ]
          },
          "metadata": {
            "tags": []
          },
          "execution_count": 32
        }
      ]
    },
    {
      "cell_type": "code",
      "metadata": {
        "colab": {
          "base_uri": "https://localhost:8080/"
        },
        "id": "tehmbxSU99X4",
        "outputId": "42f269c0-9240-4473-faff-8c555c4b89ac"
      },
      "source": [
        "len(list_b)"
      ],
      "execution_count": 33,
      "outputs": [
        {
          "output_type": "execute_result",
          "data": {
            "text/plain": [
              "4"
            ]
          },
          "metadata": {
            "tags": []
          },
          "execution_count": 33
        }
      ]
    },
    {
      "cell_type": "code",
      "metadata": {
        "colab": {
          "base_uri": "https://localhost:8080/"
        },
        "id": "OyW17M4s-Zio",
        "outputId": "2525a0ad-2a5b-44a1-ca2b-a5f6396c635b"
      },
      "source": [
        "list_b[3]"
      ],
      "execution_count": 34,
      "outputs": [
        {
          "output_type": "execute_result",
          "data": {
            "text/plain": [
              "[1, 2, 0.0]"
            ]
          },
          "metadata": {
            "tags": []
          },
          "execution_count": 34
        }
      ]
    },
    {
      "cell_type": "code",
      "metadata": {
        "colab": {
          "base_uri": "https://localhost:8080/"
        },
        "id": "MOl2gboE-cXO",
        "outputId": "ca7c37e1-679b-4663-e2a5-32872635d29b"
      },
      "source": [
        "list_b[3][1]"
      ],
      "execution_count": 35,
      "outputs": [
        {
          "output_type": "execute_result",
          "data": {
            "text/plain": [
              "2"
            ]
          },
          "metadata": {
            "tags": []
          },
          "execution_count": 35
        }
      ]
    },
    {
      "cell_type": "markdown",
      "metadata": {
        "id": "DqLt1SrK-59L"
      },
      "source": [
        "string คือ list ของตัวหนังสือ"
      ]
    },
    {
      "cell_type": "code",
      "metadata": {
        "id": "q_xuKKWB-uyI"
      },
      "source": [
        "a = 'Stat KKU'"
      ],
      "execution_count": 36,
      "outputs": []
    },
    {
      "cell_type": "code",
      "metadata": {
        "colab": {
          "base_uri": "https://localhost:8080/",
          "height": 35
        },
        "id": "gNF2Z3uC_FOx",
        "outputId": "3f80f028-e40a-4d09-9737-a2b7715d32c0"
      },
      "source": [
        "a[4]"
      ],
      "execution_count": 37,
      "outputs": [
        {
          "output_type": "execute_result",
          "data": {
            "application/vnd.google.colaboratory.intrinsic+json": {
              "type": "string"
            },
            "text/plain": [
              "' '"
            ]
          },
          "metadata": {
            "tags": []
          },
          "execution_count": 37
        }
      ]
    },
    {
      "cell_type": "markdown",
      "metadata": {
        "id": "L2Wsleku_mYr"
      },
      "source": [
        "##วิธีการสร้า list ว่าง"
      ]
    },
    {
      "cell_type": "code",
      "metadata": {
        "id": "BB-8VAKX_G9f"
      },
      "source": [
        "list_c = list() # แบบที่ 1\n",
        "list_d = []     # แบบที่ 2"
      ],
      "execution_count": 38,
      "outputs": []
    },
    {
      "cell_type": "code",
      "metadata": {
        "colab": {
          "base_uri": "https://localhost:8080/"
        },
        "id": "YrnJOzRd_7qS",
        "outputId": "7be1845c-9ca0-40c4-fe7f-597cbd7a257f"
      },
      "source": [
        "list_c"
      ],
      "execution_count": 39,
      "outputs": [
        {
          "output_type": "execute_result",
          "data": {
            "text/plain": [
              "[]"
            ]
          },
          "metadata": {
            "tags": []
          },
          "execution_count": 39
        }
      ]
    },
    {
      "cell_type": "code",
      "metadata": {
        "colab": {
          "base_uri": "https://localhost:8080/"
        },
        "id": "linH-uI5__Cz",
        "outputId": "d32582b4-8e84-4d98-b1bd-e256ed3a3ddb"
      },
      "source": [
        "list_d"
      ],
      "execution_count": 40,
      "outputs": [
        {
          "output_type": "execute_result",
          "data": {
            "text/plain": [
              "[]"
            ]
          },
          "metadata": {
            "tags": []
          },
          "execution_count": 40
        }
      ]
    },
    {
      "cell_type": "markdown",
      "metadata": {
        "id": "lHXZm_6NAbE_"
      },
      "source": [
        "เติมค่าลงไปใน list (.append())"
      ]
    },
    {
      "cell_type": "code",
      "metadata": {
        "id": "X4vgY-flAAvQ"
      },
      "source": [
        "list_d.append('a')"
      ],
      "execution_count": 41,
      "outputs": []
    },
    {
      "cell_type": "code",
      "metadata": {
        "colab": {
          "base_uri": "https://localhost:8080/"
        },
        "id": "_sgZbjXwAuTS",
        "outputId": "c5092843-0d90-4b64-cb76-5f99197edc9e"
      },
      "source": [
        "list_d"
      ],
      "execution_count": 42,
      "outputs": [
        {
          "output_type": "execute_result",
          "data": {
            "text/plain": [
              "['a']"
            ]
          },
          "metadata": {
            "tags": []
          },
          "execution_count": 42
        }
      ]
    },
    {
      "cell_type": "code",
      "metadata": {
        "id": "zkPV6T3uAwgv"
      },
      "source": [
        "list_d.append(56)"
      ],
      "execution_count": 43,
      "outputs": []
    },
    {
      "cell_type": "code",
      "metadata": {
        "colab": {
          "base_uri": "https://localhost:8080/"
        },
        "id": "79ixZzkgA3vK",
        "outputId": "116a2f5a-93f5-4970-9f12-464ebdf8d052"
      },
      "source": [
        "list_d"
      ],
      "execution_count": 44,
      "outputs": [
        {
          "output_type": "execute_result",
          "data": {
            "text/plain": [
              "['a', 56]"
            ]
          },
          "metadata": {
            "tags": []
          },
          "execution_count": 44
        }
      ]
    },
    {
      "cell_type": "markdown",
      "metadata": {
        "id": "AzxJ70WYBJct"
      },
      "source": [
        "###การชึ้ต่าใน list (indexing)\n",
        "\n",
        "1. ใช้ลำดับเลขในการชี้\n",
        "2. ลำดับเริ่มจาก 0\n",
        "3. สามารถชี้จากข้างหลังโดยใช้ negative index"
      ]
    },
    {
      "cell_type": "code",
      "metadata": {
        "colab": {
          "base_uri": "https://localhost:8080/"
        },
        "id": "hDmluzBnA_b7",
        "outputId": "c8529c57-2e10-40d5-8dad-c263a7a554da"
      },
      "source": [
        "list_b"
      ],
      "execution_count": 45,
      "outputs": [
        {
          "output_type": "execute_result",
          "data": {
            "text/plain": [
              "[2, 'xyz', [1, 2, 0.2, 'abs'], [1, 2, 0.0]]"
            ]
          },
          "metadata": {
            "tags": []
          },
          "execution_count": 45
        }
      ]
    },
    {
      "cell_type": "code",
      "metadata": {
        "colab": {
          "base_uri": "https://localhost:8080/"
        },
        "id": "fXW-RuBCBk-5",
        "outputId": "56dcbcc9-700c-4d84-cef1-f0e2f6032d2f"
      },
      "source": [
        "list_b[-1]"
      ],
      "execution_count": 46,
      "outputs": [
        {
          "output_type": "execute_result",
          "data": {
            "text/plain": [
              "[1, 2, 0.0]"
            ]
          },
          "metadata": {
            "tags": []
          },
          "execution_count": 46
        }
      ]
    },
    {
      "cell_type": "markdown",
      "metadata": {
        "id": "QYZW0hKWCPUs"
      },
      "source": [
        "### list slicing"
      ]
    },
    {
      "cell_type": "code",
      "metadata": {
        "id": "InUcKuijCNMA"
      },
      "source": [
        "list_ex = [1,2,3,5,6,8,-1,20,50,0]"
      ],
      "execution_count": 47,
      "outputs": []
    },
    {
      "cell_type": "markdown",
      "metadata": {
        "id": "4LealmkVC6Ts"
      },
      "source": [
        "เราจะตัด list โดยเอาตั้งแต่ [ตัวหน้า:ตัวก่อนตัวหลัง] \n",
        "\n",
        "ถ้าเป็นสัญลักษณ์คณิตศาสตร์[ตัวหน้า:ตัวหลัง] -> [ตัวหน้ามตัวหลัง)"
      ]
    },
    {
      "cell_type": "code",
      "metadata": {
        "colab": {
          "base_uri": "https://localhost:8080/"
        },
        "id": "t0iw2a3OCZiZ",
        "outputId": "fe6123c5-cd81-44a2-8b86-87fc83f06b24"
      },
      "source": [
        "list_ex[1:6]  "
      ],
      "execution_count": 48,
      "outputs": [
        {
          "output_type": "execute_result",
          "data": {
            "text/plain": [
              "[2, 3, 5, 6, 8]"
            ]
          },
          "metadata": {
            "tags": []
          },
          "execution_count": 48
        }
      ]
    },
    {
      "cell_type": "code",
      "metadata": {
        "colab": {
          "base_uri": "https://localhost:8080/"
        },
        "id": "GKDBSqE4CjSw",
        "outputId": "b8801861-58de-480d-a599-883cee13fd6a"
      },
      "source": [
        "list_ex[4:]"
      ],
      "execution_count": 49,
      "outputs": [
        {
          "output_type": "execute_result",
          "data": {
            "text/plain": [
              "[6, 8, -1, 20, 50, 0]"
            ]
          },
          "metadata": {
            "tags": []
          },
          "execution_count": 49
        }
      ]
    },
    {
      "cell_type": "code",
      "metadata": {
        "colab": {
          "base_uri": "https://localhost:8080/"
        },
        "id": "5-FfB9GrDgoa",
        "outputId": "79bebb86-2101-4ed1-848d-798d7b05bc98"
      },
      "source": [
        "list_ex[:6]"
      ],
      "execution_count": 50,
      "outputs": [
        {
          "output_type": "execute_result",
          "data": {
            "text/plain": [
              "[1, 2, 3, 5, 6, 8]"
            ]
          },
          "metadata": {
            "tags": []
          },
          "execution_count": 50
        }
      ]
    },
    {
      "cell_type": "markdown",
      "metadata": {
        "id": "zES0t33LELwG"
      },
      "source": [
        "[จุดเริ่มต้น:จุดสุดท้าย:step]"
      ]
    },
    {
      "cell_type": "code",
      "metadata": {
        "colab": {
          "base_uri": "https://localhost:8080/"
        },
        "id": "yqtaXOIbDkAP",
        "outputId": "0b9cb2bd-8ed5-471f-a106-a976490abf8a"
      },
      "source": [
        "list_ex[::2]"
      ],
      "execution_count": 51,
      "outputs": [
        {
          "output_type": "execute_result",
          "data": {
            "text/plain": [
              "[1, 3, 6, -1, 50]"
            ]
          },
          "metadata": {
            "tags": []
          },
          "execution_count": 51
        }
      ]
    },
    {
      "cell_type": "code",
      "metadata": {
        "colab": {
          "base_uri": "https://localhost:8080/"
        },
        "id": "ehnfelEREAf0",
        "outputId": "cb95046e-5fa8-40b1-8c59-ae682df24f65"
      },
      "source": [
        "list_ex[::-1] #การกลับ list"
      ],
      "execution_count": 52,
      "outputs": [
        {
          "output_type": "execute_result",
          "data": {
            "text/plain": [
              "[0, 50, 20, -1, 8, 6, 5, 3, 2, 1]"
            ]
          },
          "metadata": {
            "tags": []
          },
          "execution_count": 52
        }
      ]
    },
    {
      "cell_type": "code",
      "metadata": {
        "colab": {
          "base_uri": "https://localhost:8080/",
          "height": 35
        },
        "id": "HZ7ek6OoE62q",
        "outputId": "d9395387-5af2-4a83-db50-f69be176d5cf"
      },
      "source": [
        "a"
      ],
      "execution_count": 53,
      "outputs": [
        {
          "output_type": "execute_result",
          "data": {
            "application/vnd.google.colaboratory.intrinsic+json": {
              "type": "string"
            },
            "text/plain": [
              "'Stat KKU'"
            ]
          },
          "metadata": {
            "tags": []
          },
          "execution_count": 53
        }
      ]
    },
    {
      "cell_type": "code",
      "metadata": {
        "colab": {
          "base_uri": "https://localhost:8080/",
          "height": 35
        },
        "id": "Y6u5rFGaE_Ed",
        "outputId": "c5acc011-b1ec-48e2-dc89-3672e07a4dea"
      },
      "source": [
        "a[5:]"
      ],
      "execution_count": 54,
      "outputs": [
        {
          "output_type": "execute_result",
          "data": {
            "application/vnd.google.colaboratory.intrinsic+json": {
              "type": "string"
            },
            "text/plain": [
              "'KKU'"
            ]
          },
          "metadata": {
            "tags": []
          },
          "execution_count": 54
        }
      ]
    },
    {
      "cell_type": "code",
      "metadata": {
        "colab": {
          "base_uri": "https://localhost:8080/",
          "height": 35
        },
        "id": "QA4fNLKqFDY2",
        "outputId": "fe487d7e-c737-4fca-c581-4c6272109c20"
      },
      "source": [
        "a[-3:]"
      ],
      "execution_count": 55,
      "outputs": [
        {
          "output_type": "execute_result",
          "data": {
            "application/vnd.google.colaboratory.intrinsic+json": {
              "type": "string"
            },
            "text/plain": [
              "'KKU'"
            ]
          },
          "metadata": {
            "tags": []
          },
          "execution_count": 55
        }
      ]
    },
    {
      "cell_type": "code",
      "metadata": {
        "colab": {
          "base_uri": "https://localhost:8080/",
          "height": 35
        },
        "id": "2V3RPx90F6XI",
        "outputId": "31211824-79af-4e28-9a1d-51cbbd39bd4e"
      },
      "source": [
        "a[5:8]"
      ],
      "execution_count": 56,
      "outputs": [
        {
          "output_type": "execute_result",
          "data": {
            "application/vnd.google.colaboratory.intrinsic+json": {
              "type": "string"
            },
            "text/plain": [
              "'KKU'"
            ]
          },
          "metadata": {
            "tags": []
          },
          "execution_count": 56
        }
      ]
    },
    {
      "cell_type": "markdown",
      "metadata": {
        "id": "fj3VBRP0G5JW"
      },
      "source": [
        "##list + list"
      ]
    },
    {
      "cell_type": "code",
      "metadata": {
        "colab": {
          "base_uri": "https://localhost:8080/"
        },
        "id": "DU__98EPF_Vu",
        "outputId": "eea625ac-3cac-4786-ec12-e366a53e0283"
      },
      "source": [
        "print(list_a)\n",
        "print(list_b)"
      ],
      "execution_count": 57,
      "outputs": [
        {
          "output_type": "stream",
          "text": [
            "[1, 2, 0.2, 'abs']\n",
            "[2, 'xyz', [1, 2, 0.2, 'abs'], [1, 2, 0.0]]\n"
          ],
          "name": "stdout"
        }
      ]
    },
    {
      "cell_type": "code",
      "metadata": {
        "colab": {
          "base_uri": "https://localhost:8080/"
        },
        "id": "fKY4VO8PHDNv",
        "outputId": "ed25a558-4b80-4bd2-dbd6-55b9d0362205"
      },
      "source": [
        "list_a + list_b"
      ],
      "execution_count": 58,
      "outputs": [
        {
          "output_type": "execute_result",
          "data": {
            "text/plain": [
              "[1, 2, 0.2, 'abs', 2, 'xyz', [1, 2, 0.2, 'abs'], [1, 2, 0.0]]"
            ]
          },
          "metadata": {
            "tags": []
          },
          "execution_count": 58
        }
      ]
    },
    {
      "cell_type": "markdown",
      "metadata": {
        "id": "oJwT1YPhLahV"
      },
      "source": [
        "format string"
      ]
    },
    {
      "cell_type": "markdown",
      "metadata": {
        "id": "-RI5d4HBLvUf"
      },
      "source": [
        "\n",
        "\n",
        "```python\n",
        "f'string{ตัวแปร}'\n",
        "```\n",
        "\n"
      ]
    },
    {
      "cell_type": "markdown",
      "metadata": {
        "id": "gjQ3AQIZMACx"
      },
      "source": [
        "{} เรียกว่า curly brackets"
      ]
    },
    {
      "cell_type": "code",
      "metadata": {
        "colab": {
          "base_uri": "https://localhost:8080/",
          "height": 35
        },
        "id": "664mopR_LfPF",
        "outputId": "f9a6cb34-4ca7-4f54-f1bd-ea0086adcaf6"
      },
      "source": [
        "f'ตัวแปร list_a มีค่าคือ {list_a}'"
      ],
      "execution_count": 59,
      "outputs": [
        {
          "output_type": "execute_result",
          "data": {
            "application/vnd.google.colaboratory.intrinsic+json": {
              "type": "string"
            },
            "text/plain": [
              "\"ตัวแปร list_a มีค่าคือ [1, 2, 0.2, 'abs']\""
            ]
          },
          "metadata": {
            "tags": []
          },
          "execution_count": 59
        }
      ]
    },
    {
      "cell_type": "markdown",
      "metadata": {
        "id": "0eqly2Y5HozL"
      },
      "source": [
        "#Loop\n",
        "\n",
        "การทำงานซ้ำๆ หรือ ทำงานคล้ายๆกัน"
      ]
    },
    {
      "cell_type": "markdown",
      "metadata": {
        "id": "0P_cIyC7KV4k"
      },
      "source": [
        "indent\n",
        "```python\n",
        "for ตัวแปรที่จะรับค่าจากลิสต์ in ลิสต์ที่จะนำมาวนลูป:\n",
        "    do something #in_loop\n",
        "    do another thing #in_loop\n",
        "\n",
        "do other things#out side loop\n",
        "```"
      ]
    },
    {
      "cell_type": "code",
      "metadata": {
        "colab": {
          "base_uri": "https://localhost:8080/"
        },
        "id": "OdAzX7rTJo7c",
        "outputId": "4b432140-9e93-4c78-8667-0d4c056ccb62"
      },
      "source": [
        " for i in [1,2,3,4,5]:\n",
        "  print(i+1)"
      ],
      "execution_count": 60,
      "outputs": [
        {
          "output_type": "stream",
          "text": [
            "2\n",
            "3\n",
            "4\n",
            "5\n",
            "6\n"
          ],
          "name": "stdout"
        }
      ]
    },
    {
      "cell_type": "code",
      "metadata": {
        "colab": {
          "base_uri": "https://localhost:8080/"
        },
        "id": "Scmhsvr3MbA2",
        "outputId": "45cd100a-b795-4caa-9c1c-679494a8db03"
      },
      "source": [
        "for x in [1,2,3,4,5]:\n",
        "  print(f'ค่าตัวแปร x คือ {x} และ x+2={x+2}')"
      ],
      "execution_count": 61,
      "outputs": [
        {
          "output_type": "stream",
          "text": [
            "ค่าตัวแปร x คือ 1 และ x+2=3\n",
            "ค่าตัวแปร x คือ 2 และ x+2=4\n",
            "ค่าตัวแปร x คือ 3 และ x+2=5\n",
            "ค่าตัวแปร x คือ 4 และ x+2=6\n",
            "ค่าตัวแปร x คือ 5 และ x+2=7\n"
          ],
          "name": "stdout"
        }
      ]
    },
    {
      "cell_type": "code",
      "metadata": {
        "colab": {
          "base_uri": "https://localhost:8080/"
        },
        "id": "6xEVSvJXM2Vd",
        "outputId": "e6037345-b703-4733-96fe-2c1707166483"
      },
      "source": [
        "list5 = [1,2,3,4,5]\n",
        "for x in list5:\n",
        "  print(f'ค่าตัวแปร x คือ {x} และ x+2={x+2}')"
      ],
      "execution_count": 62,
      "outputs": [
        {
          "output_type": "stream",
          "text": [
            "ค่าตัวแปร x คือ 1 และ x+2=3\n",
            "ค่าตัวแปร x คือ 2 และ x+2=4\n",
            "ค่าตัวแปร x คือ 3 และ x+2=5\n",
            "ค่าตัวแปร x คือ 4 และ x+2=6\n",
            "ค่าตัวแปร x คือ 5 และ x+2=7\n"
          ],
          "name": "stdout"
        }
      ]
    },
    {
      "cell_type": "code",
      "metadata": {
        "colab": {
          "base_uri": "https://localhost:8080/"
        },
        "id": "EgrtyVbKNEAq",
        "outputId": "737cc126-33d4-4a1b-a570-66ba647620eb"
      },
      "source": [
        "list(range(10))"
      ],
      "execution_count": 63,
      "outputs": [
        {
          "output_type": "execute_result",
          "data": {
            "text/plain": [
              "[0, 1, 2, 3, 4, 5, 6, 7, 8, 9]"
            ]
          },
          "metadata": {
            "tags": []
          },
          "execution_count": 63
        }
      ]
    },
    {
      "cell_type": "code",
      "metadata": {
        "colab": {
          "base_uri": "https://localhost:8080/"
        },
        "id": "Yo9uBAQXNTz0",
        "outputId": "b8849c58-8b70-4e96-8dcd-662479d30474"
      },
      "source": [
        "for i in range(2,7):\n",
        "  print(i)"
      ],
      "execution_count": 64,
      "outputs": [
        {
          "output_type": "stream",
          "text": [
            "2\n",
            "3\n",
            "4\n",
            "5\n",
            "6\n"
          ],
          "name": "stdout"
        }
      ]
    },
    {
      "cell_type": "code",
      "metadata": {
        "colab": {
          "base_uri": "https://localhost:8080/"
        },
        "id": "P0TKPYhTN9Qy",
        "outputId": "fd3ae281-0d44-449a-b207-4298e25d6c07"
      },
      "source": [
        "for i in range(2,7,2):\n",
        "  print(i)"
      ],
      "execution_count": 65,
      "outputs": [
        {
          "output_type": "stream",
          "text": [
            "2\n",
            "4\n",
            "6\n"
          ],
          "name": "stdout"
        }
      ]
    },
    {
      "cell_type": "code",
      "metadata": {
        "colab": {
          "base_uri": "https://localhost:8080/"
        },
        "id": "IwGkCpOWOYHW",
        "outputId": "708bb900-b72a-4949-dcd6-96a9c02c37fe"
      },
      "source": [
        "for i in range(5):\n",
        "  print('hahaha')"
      ],
      "execution_count": 66,
      "outputs": [
        {
          "output_type": "stream",
          "text": [
            "hahaha\n",
            "hahaha\n",
            "hahaha\n",
            "hahaha\n",
            "hahaha\n"
          ],
          "name": "stdout"
        }
      ]
    },
    {
      "cell_type": "code",
      "metadata": {
        "colab": {
          "base_uri": "https://localhost:8080/"
        },
        "id": "6Erb8TKDOek0",
        "outputId": "786c6bff-9aac-4d09-b2d1-0788207131e0"
      },
      "source": [
        "for i in range(5):\n",
        "  print('hahaha')\n",
        "  x = i + 3\n",
        "  print(f'i = {i} x = {x}')"
      ],
      "execution_count": 67,
      "outputs": [
        {
          "output_type": "stream",
          "text": [
            "hahaha\n",
            "i = 0 x = 3\n",
            "hahaha\n",
            "i = 1 x = 4\n",
            "hahaha\n",
            "i = 2 x = 5\n",
            "hahaha\n",
            "i = 3 x = 6\n",
            "hahaha\n",
            "i = 4 x = 7\n"
          ],
          "name": "stdout"
        }
      ]
    },
    {
      "cell_type": "markdown",
      "metadata": {
        "id": "JfziSDKxPEdD"
      },
      "source": [
        "##Nested loop"
      ]
    },
    {
      "cell_type": "code",
      "metadata": {
        "colab": {
          "base_uri": "https://localhost:8080/"
        },
        "id": "08ASSvWwPJcV",
        "outputId": "49830298-2580-494d-a337-61e78f401a9f"
      },
      "source": [
        "for i in range(3):\n",
        "  print(f'now i = {i}')\n",
        "  print(f'start j loop')\n",
        "  for j in range(4):\n",
        "       print(f'i = {i} j = {j} i + j = {i+j}')\n",
        "  print('end j loop')"
      ],
      "execution_count": 68,
      "outputs": [
        {
          "output_type": "stream",
          "text": [
            "now i = 0\n",
            "start j loop\n",
            "i = 0 j = 0 i + j = 0\n",
            "i = 0 j = 1 i + j = 1\n",
            "i = 0 j = 2 i + j = 2\n",
            "i = 0 j = 3 i + j = 3\n",
            "end j loop\n",
            "now i = 1\n",
            "start j loop\n",
            "i = 1 j = 0 i + j = 1\n",
            "i = 1 j = 1 i + j = 2\n",
            "i = 1 j = 2 i + j = 3\n",
            "i = 1 j = 3 i + j = 4\n",
            "end j loop\n",
            "now i = 2\n",
            "start j loop\n",
            "i = 2 j = 0 i + j = 2\n",
            "i = 2 j = 1 i + j = 3\n",
            "i = 2 j = 2 i + j = 4\n",
            "i = 2 j = 3 i + j = 5\n",
            "end j loop\n"
          ],
          "name": "stdout"
        }
      ]
    },
    {
      "cell_type": "markdown",
      "metadata": {
        "id": "eY6aADhaHrn8"
      },
      "source": [
        "#Condition (if statement)"
      ]
    },
    {
      "cell_type": "markdown",
      "metadata": {
        "id": "nh_xIctQFYhA"
      },
      "source": [
        "\n",
        "\n",
        "```python\n",
        "if เงื่อนไขที่จะตรวจสอบ (==,!=,<,>,<=,>=):\n",
        "    ถ้าเงื่อนไขเป็นจริง ทำงาน 1\n",
        "    ถ้าเงื่อนไขเป็นจริง ทำงาน 2\n",
        "```\n",
        "\n"
      ]
    },
    {
      "cell_type": "code",
      "metadata": {
        "colab": {
          "base_uri": "https://localhost:8080/"
        },
        "id": "924QpLsNFVHG",
        "outputId": "971ed90f-7cd6-41fe-ef64-9f0710b6f3bf"
      },
      "source": [
        "stringx = 'hsgfhjsgfdgvsghfuyffhdrujkytdfghjgfhdgchj'\n",
        "\n",
        "if len(stringx) > 30:\n",
        "    print(f'{stringx} is longer than 30 Characters')"
      ],
      "execution_count": 75,
      "outputs": [
        {
          "output_type": "stream",
          "text": [
            "hsgfhjsgfdgvsghfuyffhdrujkytdfghjgfhdgchj is longer than 30 Characters\n"
          ],
          "name": "stdout"
        }
      ]
    },
    {
      "cell_type": "code",
      "metadata": {
        "id": "AVvNqLR1G9p6"
      },
      "source": [
        "stringx = 'hsgfhjsgfdgvsghfghjgfhdgchj'\n",
        "\n",
        "if len(stringx) > 100:\n",
        "    print(f'{stringx} is longer than 30 Characters')"
      ],
      "execution_count": 76,
      "outputs": []
    },
    {
      "cell_type": "markdown",
      "metadata": {
        "id": "wdRSDfdwHlAH"
      },
      "source": [
        "```python\n",
        "if เงื่อนไขที่จะตรวจสอบ (==,!=,<,>,<=,>=):\n",
        "    ถ้าเงื่อนไขเป็นจริง ทำงาน 1\n",
        "    ถ้าเงื่อนไขเป็นจริง ทำงาน 2\n",
        "else: #ตรวจสอบเงื่อนไขด้านบนแล้วไม่เป็นจริง\n",
        "    ทำงานที่ X\n",
        "```\n"
      ]
    },
    {
      "cell_type": "code",
      "metadata": {
        "colab": {
          "base_uri": "https://localhost:8080/"
        },
        "id": "XX-b3DNqHXDr",
        "outputId": "9aebcb67-a8ae-44e3-b85e-35883d3a653c"
      },
      "source": [
        "stringx = 'hsgfhjsgfdgvsghfghjgfhdgchj'\n",
        "\n",
        "if len(stringx) > 100:\n",
        "    print(f'{stringx} is longer than 30 Characters')\n",
        "else: \n",
        "  print(f'{stringx} is {len(stringx)} Characters long')"
      ],
      "execution_count": 77,
      "outputs": [
        {
          "output_type": "stream",
          "text": [
            "hsgfhjsgfdgvsghfghjgfhdgchj is 27 Characters long\n"
          ],
          "name": "stdout"
        }
      ]
    },
    {
      "cell_type": "markdown",
      "metadata": {
        "id": "MDiDoHHOJm0J"
      },
      "source": [
        "```python\n",
        "if เงื่อนไขที่จะตรวจสอบ (==,!=,<,>,<=,>=):\n",
        "    ถ้าเงื่อนไขเป็นจริง ทำงาน 1\n",
        "    ถ้าเงื่อนไขเป็นจริง ทำงาน 2\n",
        "elif เงื่อนไขที่จะตรวจสอบต่อไปถ้าเงื่อนไขข้างบนไม่เป็นจริง:\n",
        "    ถ้าเงื่อนไขเป็นจริง ทำงาน a1\n",
        "    ถ้าเงื่อนไขเป็นจริง ทำงาน a2\n",
        "elif เงื่อนไขที่จะตรวจสอบต่อไปถ้าเงื่อนไขข้างบนไม่เป็นจริง:\n",
        "    ถ้าเงื่อนไขเป็นจริง ทำงาน b1\n",
        "    ถ้าเงื่อนไขเป็นจริง ทำงาน b2\n",
        "else: #ตรวจสอบเงื่อนไขด้านบนแล้วไม่เป็นจริง\n",
        "    ทำงานที่ X\n",
        "```\n"
      ]
    },
    {
      "cell_type": "code",
      "metadata": {
        "colab": {
          "base_uri": "https://localhost:8080/"
        },
        "id": "n42ABy-pIJkc",
        "outputId": "7dbe2c30-5cfa-4706-9143-18ea78653d73"
      },
      "source": [
        "password = '12345'\n",
        "\n",
        "input_pass = '123'\n",
        "if input_pass == password:\n",
        "   print('Welcome!')\n",
        "elif len(input_pass) > len(password):\n",
        "   print('Too long, try again!')\n",
        "elif len(input_pass) < len(password):\n",
        "   print('Too short, try again!')\n",
        "else:\n",
        "   print('Wrong password, try again!')"
      ],
      "execution_count": 79,
      "outputs": [
        {
          "output_type": "stream",
          "text": [
            "Too short, try again!\n"
          ],
          "name": "stdout"
        }
      ]
    },
    {
      "cell_type": "markdown",
      "metadata": {
        "id": "19OfTdkrLCxk"
      },
      "source": [
        "#Quiz 1 หา Min"
      ]
    },
    {
      "cell_type": "code",
      "metadata": {
        "id": "OegHIyODNgk1"
      },
      "source": [
        "list_ex = [1,5,9,-19,-2,0] #หาค่าที่น้อยที่สุดใน list_ex โดยไม่ใช้ function min"
      ],
      "execution_count": 80,
      "outputs": []
    },
    {
      "cell_type": "code",
      "metadata": {
        "colab": {
          "base_uri": "https://localhost:8080/"
        },
        "id": "5RSNxFwYN99s",
        "outputId": "6c22001c-9618-4e29-9279-033984047edf"
      },
      "source": [
        "if list_ex[i] < list_ex[j]:\n",
        "    print(f'Min is {list_ex[i]}')\n",
        "else:\n",
        "    print(f'Min is {list_ex[j]}')"
      ],
      "execution_count": 83,
      "outputs": [
        {
          "output_type": "stream",
          "text": [
            "Min is -19\n"
          ],
          "name": "stdout"
        }
      ]
    },
    {
      "cell_type": "markdown",
      "metadata": {
        "id": "kpHf-cVgTsIA"
      },
      "source": [
        "#เฉลย"
      ]
    },
    {
      "cell_type": "code",
      "metadata": {
        "colab": {
          "base_uri": "https://localhost:8080/"
        },
        "id": "W-D6z2KATuFY",
        "outputId": "130cb64f-7ebe-4c09-f7ac-9e2707ebe109"
      },
      "source": [
        "min = 10000000\n",
        "\n",
        "for i in list_ex:\n",
        "  if i < min:\n",
        "    min = i \n",
        "print(min)\n"
      ],
      "execution_count": 87,
      "outputs": [
        {
          "output_type": "stream",
          "text": [
            "-19\n"
          ],
          "name": "stdout"
        }
      ]
    },
    {
      "cell_type": "code",
      "metadata": {
        "colab": {
          "base_uri": "https://localhost:8080/"
        },
        "id": "ZEbHmZ9gUN81",
        "outputId": "dbe03df4-118d-4881-84b1-55426e9b15bc"
      },
      "source": [
        "min = 10000000\n",
        "print(list_ex)\n",
        "for i in list_ex:\n",
        "  print(f'now i = {i}, min = {min}')\n",
        "  if i < min:\n",
        "    print(f'i<min, update min -> {i}')\n",
        "    min = i \n",
        "  else:\n",
        "    print('not update')\n",
        "  print('end condition, go to nexy i')\n",
        "print(min)\n"
      ],
      "execution_count": 88,
      "outputs": [
        {
          "output_type": "stream",
          "text": [
            "[1, 5, 9, -19, -2, 0]\n",
            "now i = 1, min = 10000000\n",
            "i<min, update min -> 1\n",
            "end condition, go to nexy i\n",
            "now i = 5, min = 1\n",
            "not update\n",
            "end condition, go to nexy i\n",
            "now i = 9, min = 1\n",
            "not update\n",
            "end condition, go to nexy i\n",
            "now i = -19, min = 1\n",
            "i<min, update min -> -19\n",
            "end condition, go to nexy i\n",
            "now i = -2, min = -19\n",
            "not update\n",
            "end condition, go to nexy i\n",
            "now i = 0, min = -19\n",
            "not update\n",
            "end condition, go to nexy i\n",
            "-19\n"
          ],
          "name": "stdout"
        }
      ]
    },
    {
      "cell_type": "markdown",
      "metadata": {
        "id": "nl99quCILG45"
      },
      "source": [
        "#HW3 ตัดเกรด"
      ]
    },
    {
      "cell_type": "code",
      "metadata": {
        "id": "ZZ7EKSECLGPD"
      },
      "source": [
        "score = [49,56,70,95,82,55,89,20,77,77,81,59,10] #ตัดเกรด คะแนนใน list score (ใช้ if กับ for)"
      ],
      "execution_count": 89,
      "outputs": []
    },
    {
      "cell_type": "code",
      "metadata": {
        "id": "mwwsYxT7WXVB"
      },
      "source": [
        ""
      ],
      "execution_count": null,
      "outputs": []
    }
  ]
}