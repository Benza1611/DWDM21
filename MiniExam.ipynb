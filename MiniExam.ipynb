{
  "nbformat": 4,
  "nbformat_minor": 0,
  "metadata": {
    "colab": {
      "name": "MiniExam.ipynb",
      "provenance": [],
      "include_colab_link": true
    },
    "kernelspec": {
      "name": "python3",
      "display_name": "Python 3"
    },
    "language_info": {
      "name": "python"
    }
  },
  "cells": [
    {
      "cell_type": "markdown",
      "metadata": {
        "id": "view-in-github",
        "colab_type": "text"
      },
      "source": [
        "<a href=\"https://colab.research.google.com/github/Benza1611/DWDM21/blob/main/MiniExam.ipynb\" target=\"_parent\"><img src=\"https://colab.research.google.com/assets/colab-badge.svg\" alt=\"Open In Colab\"/></a>"
      ]
    },
    {
      "cell_type": "markdown",
      "metadata": {
        "id": "iPx-P2JWSAwz"
      },
      "source": [
        "### ข้อสอบ\n",
        "\n",
        "จาก data ```flights.csv``` และ ```airports.csv``` ใน https://drive.google.com/drive/folders/1EFo1_uQgWkRiXjezL0T4YwteYrsqU5MV?usp=sharing\n",
        "0. หารัฐที่มีจำนวนเครื่องบินขาเข้ามากที่สุดและน้อยที่สุด\n",
        "1. หารัฐที่มีจำนวนเครื่องบินขาออกมากที่สุดและน้อยที่สุด\n",
        "2. วาด Histogram แสดงจำนวนเครื่องบินขาออกของแต่ละวันในสัปดาห์\n",
        "3. สายการบินไหนมีเที่ยวบินมากที่สุดและน้อยที่สุด\n",
        "4. สายการบินอะไรมีความล่าช้ามากที่สุดและน้อยที่สุด\n",
        "5. วันธรรมดา หรือวันเสาร์-อาทิตย์มีเครื่องบินขาเข้ามากกว่ากัน (วันจันทร์ = 1, วันอังคาร = 2, ...) \n",
        "\n",
        "ให้นักศึกษาทำข้อสอบ 2 ข้อจากที่แสดงข้างบนโดยกรอกรหัสนักศึกษาลงใน function ```gen_exams()``` แล้ว run เพื่อให้ได้ข้อสอบที่นักศึกษาต้องทำ 2 ข้อ (ข้อละ 3 คะแนน)\n",
        "และให้นักศึกษาคิดโจทย์เองอีก 1 ข้อ (4 คะแนน)\n"
      ]
    },
    {
      "cell_type": "code",
      "metadata": {
        "id": "ZfBK6J_JOObY"
      },
      "source": [
        "import pandas as pd"
      ],
      "execution_count": 1,
      "outputs": []
    },
    {
      "cell_type": "code",
      "metadata": {
        "colab": {
          "base_uri": "https://localhost:8080/"
        },
        "id": "FtfT3pF0PL2x",
        "outputId": "4309ae1d-f8e4-4326-dab4-301e1bac03e3"
      },
      "source": [
        "from google.colab import drive \n",
        "drive.mount('/content/drive')"
      ],
      "execution_count": 2,
      "outputs": [
        {
          "output_type": "stream",
          "name": "stdout",
          "text": [
            "Mounted at /content/drive\n"
          ]
        }
      ]
    },
    {
      "cell_type": "code",
      "metadata": {
        "id": "XhB2n7PAPPfr"
      },
      "source": [
        "import os"
      ],
      "execution_count": 3,
      "outputs": []
    },
    {
      "cell_type": "code",
      "metadata": {
        "colab": {
          "base_uri": "https://localhost:8080/",
          "height": 423
        },
        "id": "rDBac0rqPpVY",
        "outputId": "a0cfa5b8-b6ad-4728-b062-f84e708e0ba8"
      },
      "source": [
        "flights = pd.read_csv('/content/drive/MyDrive/DWDM2021_DATA/Mini Exam/flights.csv')\n",
        "flights"
      ],
      "execution_count": 4,
      "outputs": [
        {
          "output_type": "execute_result",
          "data": {
            "text/html": [
              "<div>\n",
              "<style scoped>\n",
              "    .dataframe tbody tr th:only-of-type {\n",
              "        vertical-align: middle;\n",
              "    }\n",
              "\n",
              "    .dataframe tbody tr th {\n",
              "        vertical-align: top;\n",
              "    }\n",
              "\n",
              "    .dataframe thead th {\n",
              "        text-align: right;\n",
              "    }\n",
              "</style>\n",
              "<table border=\"1\" class=\"dataframe\">\n",
              "  <thead>\n",
              "    <tr style=\"text-align: right;\">\n",
              "      <th></th>\n",
              "      <th>วันในเดือน</th>\n",
              "      <th>วันในสัปดาห์</th>\n",
              "      <th>สายการบิน</th>\n",
              "      <th>รหัสสนามบินต้นทาง</th>\n",
              "      <th>รหัสสนามบินปลายทาง</th>\n",
              "      <th>ความล่าช้าขาออก</th>\n",
              "      <th>ความล่าช้าขาเข้า</th>\n",
              "    </tr>\n",
              "  </thead>\n",
              "  <tbody>\n",
              "    <tr>\n",
              "      <th>0</th>\n",
              "      <td>19</td>\n",
              "      <td>5</td>\n",
              "      <td>DL</td>\n",
              "      <td>11433</td>\n",
              "      <td>13303</td>\n",
              "      <td>-3</td>\n",
              "      <td>1</td>\n",
              "    </tr>\n",
              "    <tr>\n",
              "      <th>1</th>\n",
              "      <td>19</td>\n",
              "      <td>5</td>\n",
              "      <td>DL</td>\n",
              "      <td>14869</td>\n",
              "      <td>12478</td>\n",
              "      <td>0</td>\n",
              "      <td>-8</td>\n",
              "    </tr>\n",
              "    <tr>\n",
              "      <th>2</th>\n",
              "      <td>19</td>\n",
              "      <td>5</td>\n",
              "      <td>DL</td>\n",
              "      <td>14057</td>\n",
              "      <td>14869</td>\n",
              "      <td>-4</td>\n",
              "      <td>-15</td>\n",
              "    </tr>\n",
              "    <tr>\n",
              "      <th>3</th>\n",
              "      <td>19</td>\n",
              "      <td>5</td>\n",
              "      <td>DL</td>\n",
              "      <td>15016</td>\n",
              "      <td>11433</td>\n",
              "      <td>28</td>\n",
              "      <td>24</td>\n",
              "    </tr>\n",
              "    <tr>\n",
              "      <th>4</th>\n",
              "      <td>19</td>\n",
              "      <td>5</td>\n",
              "      <td>DL</td>\n",
              "      <td>11193</td>\n",
              "      <td>12892</td>\n",
              "      <td>-6</td>\n",
              "      <td>-11</td>\n",
              "    </tr>\n",
              "    <tr>\n",
              "      <th>...</th>\n",
              "      <td>...</td>\n",
              "      <td>...</td>\n",
              "      <td>...</td>\n",
              "      <td>...</td>\n",
              "      <td>...</td>\n",
              "      <td>...</td>\n",
              "      <td>...</td>\n",
              "    </tr>\n",
              "    <tr>\n",
              "      <th>2702213</th>\n",
              "      <td>19</td>\n",
              "      <td>6</td>\n",
              "      <td>DL</td>\n",
              "      <td>13204</td>\n",
              "      <td>14869</td>\n",
              "      <td>1</td>\n",
              "      <td>-3</td>\n",
              "    </tr>\n",
              "    <tr>\n",
              "      <th>2702214</th>\n",
              "      <td>19</td>\n",
              "      <td>6</td>\n",
              "      <td>DL</td>\n",
              "      <td>10397</td>\n",
              "      <td>13495</td>\n",
              "      <td>-2</td>\n",
              "      <td>-3</td>\n",
              "    </tr>\n",
              "    <tr>\n",
              "      <th>2702215</th>\n",
              "      <td>19</td>\n",
              "      <td>6</td>\n",
              "      <td>DL</td>\n",
              "      <td>10140</td>\n",
              "      <td>10397</td>\n",
              "      <td>18</td>\n",
              "      <td>9</td>\n",
              "    </tr>\n",
              "    <tr>\n",
              "      <th>2702216</th>\n",
              "      <td>19</td>\n",
              "      <td>6</td>\n",
              "      <td>DL</td>\n",
              "      <td>10397</td>\n",
              "      <td>13244</td>\n",
              "      <td>10</td>\n",
              "      <td>7</td>\n",
              "    </tr>\n",
              "    <tr>\n",
              "      <th>2702217</th>\n",
              "      <td>19</td>\n",
              "      <td>6</td>\n",
              "      <td>DL</td>\n",
              "      <td>10397</td>\n",
              "      <td>13487</td>\n",
              "      <td>0</td>\n",
              "      <td>-13</td>\n",
              "    </tr>\n",
              "  </tbody>\n",
              "</table>\n",
              "<p>2702218 rows × 7 columns</p>\n",
              "</div>"
            ],
            "text/plain": [
              "         วันในเดือน  วันในสัปดาห์  ... ความล่าช้าขาออก  ความล่าช้าขาเข้า\n",
              "0                19             5  ...              -3                 1\n",
              "1                19             5  ...               0                -8\n",
              "2                19             5  ...              -4               -15\n",
              "3                19             5  ...              28                24\n",
              "4                19             5  ...              -6               -11\n",
              "...             ...           ...  ...             ...               ...\n",
              "2702213          19             6  ...               1                -3\n",
              "2702214          19             6  ...              -2                -3\n",
              "2702215          19             6  ...              18                 9\n",
              "2702216          19             6  ...              10                 7\n",
              "2702217          19             6  ...               0               -13\n",
              "\n",
              "[2702218 rows x 7 columns]"
            ]
          },
          "metadata": {},
          "execution_count": 4
        }
      ]
    },
    {
      "cell_type": "code",
      "metadata": {
        "colab": {
          "base_uri": "https://localhost:8080/",
          "height": 423
        },
        "id": "jmidVX90P1lF",
        "outputId": "79512419-26ea-4331-c489-04e13e6d1e2f"
      },
      "source": [
        "airports = pd.read_csv('/content/drive/MyDrive/DWDM2021_DATA/Mini Exam/airports.csv')\n",
        "airports"
      ],
      "execution_count": 5,
      "outputs": [
        {
          "output_type": "execute_result",
          "data": {
            "text/html": [
              "<div>\n",
              "<style scoped>\n",
              "    .dataframe tbody tr th:only-of-type {\n",
              "        vertical-align: middle;\n",
              "    }\n",
              "\n",
              "    .dataframe tbody tr th {\n",
              "        vertical-align: top;\n",
              "    }\n",
              "\n",
              "    .dataframe thead th {\n",
              "        text-align: right;\n",
              "    }\n",
              "</style>\n",
              "<table border=\"1\" class=\"dataframe\">\n",
              "  <thead>\n",
              "    <tr style=\"text-align: right;\">\n",
              "      <th></th>\n",
              "      <th>รหัสสนามบิน</th>\n",
              "      <th>เมือง</th>\n",
              "      <th>รัฐ</th>\n",
              "      <th>ชื่อสนามบิน</th>\n",
              "    </tr>\n",
              "  </thead>\n",
              "  <tbody>\n",
              "    <tr>\n",
              "      <th>0</th>\n",
              "      <td>10165</td>\n",
              "      <td>Adak Island</td>\n",
              "      <td>AK</td>\n",
              "      <td>Adak</td>\n",
              "    </tr>\n",
              "    <tr>\n",
              "      <th>1</th>\n",
              "      <td>10299</td>\n",
              "      <td>Anchorage</td>\n",
              "      <td>AK</td>\n",
              "      <td>Ted Stevens Anchorage International</td>\n",
              "    </tr>\n",
              "    <tr>\n",
              "      <th>2</th>\n",
              "      <td>10304</td>\n",
              "      <td>Aniak</td>\n",
              "      <td>AK</td>\n",
              "      <td>Aniak Airport</td>\n",
              "    </tr>\n",
              "    <tr>\n",
              "      <th>3</th>\n",
              "      <td>10754</td>\n",
              "      <td>Barrow</td>\n",
              "      <td>AK</td>\n",
              "      <td>Wiley Post/Will Rogers Memorial</td>\n",
              "    </tr>\n",
              "    <tr>\n",
              "      <th>4</th>\n",
              "      <td>10551</td>\n",
              "      <td>Bethel</td>\n",
              "      <td>AK</td>\n",
              "      <td>Bethel Airport</td>\n",
              "    </tr>\n",
              "    <tr>\n",
              "      <th>...</th>\n",
              "      <td>...</td>\n",
              "      <td>...</td>\n",
              "      <td>...</td>\n",
              "      <td>...</td>\n",
              "    </tr>\n",
              "    <tr>\n",
              "      <th>360</th>\n",
              "      <td>11233</td>\n",
              "      <td>Cheyenne</td>\n",
              "      <td>WY</td>\n",
              "      <td>Cheyenne Regional/Jerry Olson Field</td>\n",
              "    </tr>\n",
              "    <tr>\n",
              "      <th>361</th>\n",
              "      <td>11097</td>\n",
              "      <td>Cody</td>\n",
              "      <td>WY</td>\n",
              "      <td>Yellowstone Regional</td>\n",
              "    </tr>\n",
              "    <tr>\n",
              "      <th>362</th>\n",
              "      <td>11865</td>\n",
              "      <td>Gillette</td>\n",
              "      <td>WY</td>\n",
              "      <td>Gillette Campbell County</td>\n",
              "    </tr>\n",
              "    <tr>\n",
              "      <th>363</th>\n",
              "      <td>12441</td>\n",
              "      <td>Jackson</td>\n",
              "      <td>WY</td>\n",
              "      <td>Jackson Hole</td>\n",
              "    </tr>\n",
              "    <tr>\n",
              "      <th>364</th>\n",
              "      <td>14543</td>\n",
              "      <td>Rock Springs</td>\n",
              "      <td>WY</td>\n",
              "      <td>Rock Springs Sweetwater County</td>\n",
              "    </tr>\n",
              "  </tbody>\n",
              "</table>\n",
              "<p>365 rows × 4 columns</p>\n",
              "</div>"
            ],
            "text/plain": [
              "     รหัสสนามบิน         เมือง รัฐ                          ชื่อสนามบิน\n",
              "0          10165   Adak Island  AK                                 Adak\n",
              "1          10299     Anchorage  AK  Ted Stevens Anchorage International\n",
              "2          10304         Aniak  AK                        Aniak Airport\n",
              "3          10754        Barrow  AK      Wiley Post/Will Rogers Memorial\n",
              "4          10551        Bethel  AK                       Bethel Airport\n",
              "..           ...           ...  ..                                  ...\n",
              "360        11233      Cheyenne  WY  Cheyenne Regional/Jerry Olson Field\n",
              "361        11097          Cody  WY                 Yellowstone Regional\n",
              "362        11865      Gillette  WY             Gillette Campbell County\n",
              "363        12441       Jackson  WY                         Jackson Hole\n",
              "364        14543  Rock Springs  WY       Rock Springs Sweetwater County\n",
              "\n",
              "[365 rows x 4 columns]"
            ]
          },
          "metadata": {},
          "execution_count": 5
        }
      ]
    },
    {
      "cell_type": "code",
      "metadata": {
        "id": "9vzby99vRVDH"
      },
      "source": [
        "def gen_exams(ID):\n",
        "    import math\n",
        "    a = int(ID[-1])%6\n",
        "    b = int(ID[-1])%3\n",
        "    print(f'รหัสนักศึกษา {ID} ทำข้อ {a} และ {b if a != b else 5-b}')"
      ],
      "execution_count": 6,
      "outputs": []
    },
    {
      "cell_type": "markdown",
      "metadata": {
        "id": "SRkSOtmhbv5G"
      },
      "source": [
        "ตัวอย่างการ run"
      ]
    },
    {
      "cell_type": "code",
      "metadata": {
        "colab": {
          "base_uri": "https://localhost:8080/"
        },
        "id": "zQQAtm8fZPYE",
        "outputId": "08a9d74c-0900-4162-835d-94c9ef8cf405"
      },
      "source": [
        "gen_exams('623020527-6')"
      ],
      "execution_count": 8,
      "outputs": [
        {
          "output_type": "stream",
          "name": "stdout",
          "text": [
            "รหัสนักศึกษา 623020527-6 ทำข้อ 0 และ 5\n"
          ]
        }
      ]
    },
    {
      "cell_type": "markdown",
      "metadata": {
        "id": "k77vasKVfrTW"
      },
      "source": [
        "##เชื่อมตาราง"
      ]
    },
    {
      "cell_type": "code",
      "metadata": {
        "colab": {
          "base_uri": "https://localhost:8080/",
          "height": 493
        },
        "id": "4sq91QVBPmrE",
        "outputId": "3718b875-c9ff-442c-c0b0-d6c9843d6f17"
      },
      "source": [
        "flights_airports = flights.merge(airports,how='left',left_on='รหัสสนามบินปลายทาง',right_on='รหัสสนามบิน') #รวมตาราง flights และ airports\n",
        "flights_airports "
      ],
      "execution_count": 32,
      "outputs": [
        {
          "output_type": "execute_result",
          "data": {
            "text/html": [
              "<div>\n",
              "<style scoped>\n",
              "    .dataframe tbody tr th:only-of-type {\n",
              "        vertical-align: middle;\n",
              "    }\n",
              "\n",
              "    .dataframe tbody tr th {\n",
              "        vertical-align: top;\n",
              "    }\n",
              "\n",
              "    .dataframe thead th {\n",
              "        text-align: right;\n",
              "    }\n",
              "</style>\n",
              "<table border=\"1\" class=\"dataframe\">\n",
              "  <thead>\n",
              "    <tr style=\"text-align: right;\">\n",
              "      <th></th>\n",
              "      <th>วันในเดือน</th>\n",
              "      <th>วันในสัปดาห์</th>\n",
              "      <th>สายการบิน</th>\n",
              "      <th>รหัสสนามบินต้นทาง</th>\n",
              "      <th>รหัสสนามบินปลายทาง</th>\n",
              "      <th>ความล่าช้าขาออก</th>\n",
              "      <th>ความล่าช้าขาเข้า</th>\n",
              "      <th>รหัสสนามบิน</th>\n",
              "      <th>เมือง</th>\n",
              "      <th>รัฐ</th>\n",
              "      <th>ชื่อสนามบิน</th>\n",
              "    </tr>\n",
              "  </thead>\n",
              "  <tbody>\n",
              "    <tr>\n",
              "      <th>0</th>\n",
              "      <td>19</td>\n",
              "      <td>5</td>\n",
              "      <td>DL</td>\n",
              "      <td>11433</td>\n",
              "      <td>13303</td>\n",
              "      <td>-3</td>\n",
              "      <td>1</td>\n",
              "      <td>13303</td>\n",
              "      <td>Miami</td>\n",
              "      <td>FL</td>\n",
              "      <td>Miami International</td>\n",
              "    </tr>\n",
              "    <tr>\n",
              "      <th>1</th>\n",
              "      <td>19</td>\n",
              "      <td>5</td>\n",
              "      <td>DL</td>\n",
              "      <td>14869</td>\n",
              "      <td>12478</td>\n",
              "      <td>0</td>\n",
              "      <td>-8</td>\n",
              "      <td>12478</td>\n",
              "      <td>New York</td>\n",
              "      <td>NY</td>\n",
              "      <td>John F. Kennedy International</td>\n",
              "    </tr>\n",
              "    <tr>\n",
              "      <th>2</th>\n",
              "      <td>19</td>\n",
              "      <td>5</td>\n",
              "      <td>DL</td>\n",
              "      <td>14057</td>\n",
              "      <td>14869</td>\n",
              "      <td>-4</td>\n",
              "      <td>-15</td>\n",
              "      <td>14869</td>\n",
              "      <td>Salt Lake City</td>\n",
              "      <td>UT</td>\n",
              "      <td>Salt Lake City International</td>\n",
              "    </tr>\n",
              "    <tr>\n",
              "      <th>3</th>\n",
              "      <td>19</td>\n",
              "      <td>5</td>\n",
              "      <td>DL</td>\n",
              "      <td>15016</td>\n",
              "      <td>11433</td>\n",
              "      <td>28</td>\n",
              "      <td>24</td>\n",
              "      <td>11433</td>\n",
              "      <td>Detroit</td>\n",
              "      <td>MI</td>\n",
              "      <td>Detroit Metro Wayne County</td>\n",
              "    </tr>\n",
              "    <tr>\n",
              "      <th>4</th>\n",
              "      <td>19</td>\n",
              "      <td>5</td>\n",
              "      <td>DL</td>\n",
              "      <td>11193</td>\n",
              "      <td>12892</td>\n",
              "      <td>-6</td>\n",
              "      <td>-11</td>\n",
              "      <td>12892</td>\n",
              "      <td>Los Angeles</td>\n",
              "      <td>CA</td>\n",
              "      <td>Los Angeles International</td>\n",
              "    </tr>\n",
              "    <tr>\n",
              "      <th>...</th>\n",
              "      <td>...</td>\n",
              "      <td>...</td>\n",
              "      <td>...</td>\n",
              "      <td>...</td>\n",
              "      <td>...</td>\n",
              "      <td>...</td>\n",
              "      <td>...</td>\n",
              "      <td>...</td>\n",
              "      <td>...</td>\n",
              "      <td>...</td>\n",
              "      <td>...</td>\n",
              "    </tr>\n",
              "    <tr>\n",
              "      <th>2702213</th>\n",
              "      <td>19</td>\n",
              "      <td>6</td>\n",
              "      <td>DL</td>\n",
              "      <td>13204</td>\n",
              "      <td>14869</td>\n",
              "      <td>1</td>\n",
              "      <td>-3</td>\n",
              "      <td>14869</td>\n",
              "      <td>Salt Lake City</td>\n",
              "      <td>UT</td>\n",
              "      <td>Salt Lake City International</td>\n",
              "    </tr>\n",
              "    <tr>\n",
              "      <th>2702214</th>\n",
              "      <td>19</td>\n",
              "      <td>6</td>\n",
              "      <td>DL</td>\n",
              "      <td>10397</td>\n",
              "      <td>13495</td>\n",
              "      <td>-2</td>\n",
              "      <td>-3</td>\n",
              "      <td>13495</td>\n",
              "      <td>New Orleans</td>\n",
              "      <td>LA</td>\n",
              "      <td>Louis Armstrong New Orleans International</td>\n",
              "    </tr>\n",
              "    <tr>\n",
              "      <th>2702215</th>\n",
              "      <td>19</td>\n",
              "      <td>6</td>\n",
              "      <td>DL</td>\n",
              "      <td>10140</td>\n",
              "      <td>10397</td>\n",
              "      <td>18</td>\n",
              "      <td>9</td>\n",
              "      <td>10397</td>\n",
              "      <td>Atlanta</td>\n",
              "      <td>GA</td>\n",
              "      <td>Hartsfield-Jackson Atlanta International</td>\n",
              "    </tr>\n",
              "    <tr>\n",
              "      <th>2702216</th>\n",
              "      <td>19</td>\n",
              "      <td>6</td>\n",
              "      <td>DL</td>\n",
              "      <td>10397</td>\n",
              "      <td>13244</td>\n",
              "      <td>10</td>\n",
              "      <td>7</td>\n",
              "      <td>13244</td>\n",
              "      <td>Memphis</td>\n",
              "      <td>TN</td>\n",
              "      <td>Memphis International</td>\n",
              "    </tr>\n",
              "    <tr>\n",
              "      <th>2702217</th>\n",
              "      <td>19</td>\n",
              "      <td>6</td>\n",
              "      <td>DL</td>\n",
              "      <td>10397</td>\n",
              "      <td>13487</td>\n",
              "      <td>0</td>\n",
              "      <td>-13</td>\n",
              "      <td>13487</td>\n",
              "      <td>Minneapolis</td>\n",
              "      <td>MN</td>\n",
              "      <td>Minneapolis-St Paul International</td>\n",
              "    </tr>\n",
              "  </tbody>\n",
              "</table>\n",
              "<p>2702218 rows × 11 columns</p>\n",
              "</div>"
            ],
            "text/plain": [
              "         วันในเดือน  ...                                ชื่อสนามบิน\n",
              "0                19  ...                        Miami International\n",
              "1                19  ...              John F. Kennedy International\n",
              "2                19  ...               Salt Lake City International\n",
              "3                19  ...                 Detroit Metro Wayne County\n",
              "4                19  ...                  Los Angeles International\n",
              "...             ...  ...                                        ...\n",
              "2702213          19  ...               Salt Lake City International\n",
              "2702214          19  ...  Louis Armstrong New Orleans International\n",
              "2702215          19  ...   Hartsfield-Jackson Atlanta International\n",
              "2702216          19  ...                      Memphis International\n",
              "2702217          19  ...          Minneapolis-St Paul International\n",
              "\n",
              "[2702218 rows x 11 columns]"
            ]
          },
          "metadata": {},
          "execution_count": 32
        }
      ]
    },
    {
      "cell_type": "code",
      "metadata": {
        "colab": {
          "base_uri": "https://localhost:8080/",
          "height": 493
        },
        "id": "ahqlwj81bCUo",
        "outputId": "a00154a2-d7c6-4e2d-9f4a-3031910613b6"
      },
      "source": [
        "flights_airports.dropna() #ดู missing"
      ],
      "execution_count": 33,
      "outputs": [
        {
          "output_type": "execute_result",
          "data": {
            "text/html": [
              "<div>\n",
              "<style scoped>\n",
              "    .dataframe tbody tr th:only-of-type {\n",
              "        vertical-align: middle;\n",
              "    }\n",
              "\n",
              "    .dataframe tbody tr th {\n",
              "        vertical-align: top;\n",
              "    }\n",
              "\n",
              "    .dataframe thead th {\n",
              "        text-align: right;\n",
              "    }\n",
              "</style>\n",
              "<table border=\"1\" class=\"dataframe\">\n",
              "  <thead>\n",
              "    <tr style=\"text-align: right;\">\n",
              "      <th></th>\n",
              "      <th>วันในเดือน</th>\n",
              "      <th>วันในสัปดาห์</th>\n",
              "      <th>สายการบิน</th>\n",
              "      <th>รหัสสนามบินต้นทาง</th>\n",
              "      <th>รหัสสนามบินปลายทาง</th>\n",
              "      <th>ความล่าช้าขาออก</th>\n",
              "      <th>ความล่าช้าขาเข้า</th>\n",
              "      <th>รหัสสนามบิน</th>\n",
              "      <th>เมือง</th>\n",
              "      <th>รัฐ</th>\n",
              "      <th>ชื่อสนามบิน</th>\n",
              "    </tr>\n",
              "  </thead>\n",
              "  <tbody>\n",
              "    <tr>\n",
              "      <th>0</th>\n",
              "      <td>19</td>\n",
              "      <td>5</td>\n",
              "      <td>DL</td>\n",
              "      <td>11433</td>\n",
              "      <td>13303</td>\n",
              "      <td>-3</td>\n",
              "      <td>1</td>\n",
              "      <td>13303</td>\n",
              "      <td>Miami</td>\n",
              "      <td>FL</td>\n",
              "      <td>Miami International</td>\n",
              "    </tr>\n",
              "    <tr>\n",
              "      <th>1</th>\n",
              "      <td>19</td>\n",
              "      <td>5</td>\n",
              "      <td>DL</td>\n",
              "      <td>14869</td>\n",
              "      <td>12478</td>\n",
              "      <td>0</td>\n",
              "      <td>-8</td>\n",
              "      <td>12478</td>\n",
              "      <td>New York</td>\n",
              "      <td>NY</td>\n",
              "      <td>John F. Kennedy International</td>\n",
              "    </tr>\n",
              "    <tr>\n",
              "      <th>2</th>\n",
              "      <td>19</td>\n",
              "      <td>5</td>\n",
              "      <td>DL</td>\n",
              "      <td>14057</td>\n",
              "      <td>14869</td>\n",
              "      <td>-4</td>\n",
              "      <td>-15</td>\n",
              "      <td>14869</td>\n",
              "      <td>Salt Lake City</td>\n",
              "      <td>UT</td>\n",
              "      <td>Salt Lake City International</td>\n",
              "    </tr>\n",
              "    <tr>\n",
              "      <th>3</th>\n",
              "      <td>19</td>\n",
              "      <td>5</td>\n",
              "      <td>DL</td>\n",
              "      <td>15016</td>\n",
              "      <td>11433</td>\n",
              "      <td>28</td>\n",
              "      <td>24</td>\n",
              "      <td>11433</td>\n",
              "      <td>Detroit</td>\n",
              "      <td>MI</td>\n",
              "      <td>Detroit Metro Wayne County</td>\n",
              "    </tr>\n",
              "    <tr>\n",
              "      <th>4</th>\n",
              "      <td>19</td>\n",
              "      <td>5</td>\n",
              "      <td>DL</td>\n",
              "      <td>11193</td>\n",
              "      <td>12892</td>\n",
              "      <td>-6</td>\n",
              "      <td>-11</td>\n",
              "      <td>12892</td>\n",
              "      <td>Los Angeles</td>\n",
              "      <td>CA</td>\n",
              "      <td>Los Angeles International</td>\n",
              "    </tr>\n",
              "    <tr>\n",
              "      <th>...</th>\n",
              "      <td>...</td>\n",
              "      <td>...</td>\n",
              "      <td>...</td>\n",
              "      <td>...</td>\n",
              "      <td>...</td>\n",
              "      <td>...</td>\n",
              "      <td>...</td>\n",
              "      <td>...</td>\n",
              "      <td>...</td>\n",
              "      <td>...</td>\n",
              "      <td>...</td>\n",
              "    </tr>\n",
              "    <tr>\n",
              "      <th>2702213</th>\n",
              "      <td>19</td>\n",
              "      <td>6</td>\n",
              "      <td>DL</td>\n",
              "      <td>13204</td>\n",
              "      <td>14869</td>\n",
              "      <td>1</td>\n",
              "      <td>-3</td>\n",
              "      <td>14869</td>\n",
              "      <td>Salt Lake City</td>\n",
              "      <td>UT</td>\n",
              "      <td>Salt Lake City International</td>\n",
              "    </tr>\n",
              "    <tr>\n",
              "      <th>2702214</th>\n",
              "      <td>19</td>\n",
              "      <td>6</td>\n",
              "      <td>DL</td>\n",
              "      <td>10397</td>\n",
              "      <td>13495</td>\n",
              "      <td>-2</td>\n",
              "      <td>-3</td>\n",
              "      <td>13495</td>\n",
              "      <td>New Orleans</td>\n",
              "      <td>LA</td>\n",
              "      <td>Louis Armstrong New Orleans International</td>\n",
              "    </tr>\n",
              "    <tr>\n",
              "      <th>2702215</th>\n",
              "      <td>19</td>\n",
              "      <td>6</td>\n",
              "      <td>DL</td>\n",
              "      <td>10140</td>\n",
              "      <td>10397</td>\n",
              "      <td>18</td>\n",
              "      <td>9</td>\n",
              "      <td>10397</td>\n",
              "      <td>Atlanta</td>\n",
              "      <td>GA</td>\n",
              "      <td>Hartsfield-Jackson Atlanta International</td>\n",
              "    </tr>\n",
              "    <tr>\n",
              "      <th>2702216</th>\n",
              "      <td>19</td>\n",
              "      <td>6</td>\n",
              "      <td>DL</td>\n",
              "      <td>10397</td>\n",
              "      <td>13244</td>\n",
              "      <td>10</td>\n",
              "      <td>7</td>\n",
              "      <td>13244</td>\n",
              "      <td>Memphis</td>\n",
              "      <td>TN</td>\n",
              "      <td>Memphis International</td>\n",
              "    </tr>\n",
              "    <tr>\n",
              "      <th>2702217</th>\n",
              "      <td>19</td>\n",
              "      <td>6</td>\n",
              "      <td>DL</td>\n",
              "      <td>10397</td>\n",
              "      <td>13487</td>\n",
              "      <td>0</td>\n",
              "      <td>-13</td>\n",
              "      <td>13487</td>\n",
              "      <td>Minneapolis</td>\n",
              "      <td>MN</td>\n",
              "      <td>Minneapolis-St Paul International</td>\n",
              "    </tr>\n",
              "  </tbody>\n",
              "</table>\n",
              "<p>2702218 rows × 11 columns</p>\n",
              "</div>"
            ],
            "text/plain": [
              "         วันในเดือน  ...                                ชื่อสนามบิน\n",
              "0                19  ...                        Miami International\n",
              "1                19  ...              John F. Kennedy International\n",
              "2                19  ...               Salt Lake City International\n",
              "3                19  ...                 Detroit Metro Wayne County\n",
              "4                19  ...                  Los Angeles International\n",
              "...             ...  ...                                        ...\n",
              "2702213          19  ...               Salt Lake City International\n",
              "2702214          19  ...  Louis Armstrong New Orleans International\n",
              "2702215          19  ...   Hartsfield-Jackson Atlanta International\n",
              "2702216          19  ...                      Memphis International\n",
              "2702217          19  ...          Minneapolis-St Paul International\n",
              "\n",
              "[2702218 rows x 11 columns]"
            ]
          },
          "metadata": {},
          "execution_count": 33
        }
      ]
    },
    {
      "cell_type": "markdown",
      "metadata": {
        "id": "FXnEwCHdPCQH"
      },
      "source": [
        "#0. หารัฐที่มีจำนวนเครื่องบินขาเข้ามากที่สุดและน้อยที่สุด"
      ]
    },
    {
      "cell_type": "code",
      "metadata": {
        "colab": {
          "base_uri": "https://localhost:8080/",
          "height": 423
        },
        "id": "6yUHNnU9XQ9i",
        "outputId": "1760dc00-04d9-4a17-a392-3b6457c5425b"
      },
      "source": [
        "flights_airports[['รหัสสนามบินปลายทาง','รัฐ']] #ดูรหัสสนามบินปลายทางและรัฐ"
      ],
      "execution_count": 34,
      "outputs": [
        {
          "output_type": "execute_result",
          "data": {
            "text/html": [
              "<div>\n",
              "<style scoped>\n",
              "    .dataframe tbody tr th:only-of-type {\n",
              "        vertical-align: middle;\n",
              "    }\n",
              "\n",
              "    .dataframe tbody tr th {\n",
              "        vertical-align: top;\n",
              "    }\n",
              "\n",
              "    .dataframe thead th {\n",
              "        text-align: right;\n",
              "    }\n",
              "</style>\n",
              "<table border=\"1\" class=\"dataframe\">\n",
              "  <thead>\n",
              "    <tr style=\"text-align: right;\">\n",
              "      <th></th>\n",
              "      <th>รหัสสนามบินปลายทาง</th>\n",
              "      <th>รัฐ</th>\n",
              "    </tr>\n",
              "  </thead>\n",
              "  <tbody>\n",
              "    <tr>\n",
              "      <th>0</th>\n",
              "      <td>13303</td>\n",
              "      <td>FL</td>\n",
              "    </tr>\n",
              "    <tr>\n",
              "      <th>1</th>\n",
              "      <td>12478</td>\n",
              "      <td>NY</td>\n",
              "    </tr>\n",
              "    <tr>\n",
              "      <th>2</th>\n",
              "      <td>14869</td>\n",
              "      <td>UT</td>\n",
              "    </tr>\n",
              "    <tr>\n",
              "      <th>3</th>\n",
              "      <td>11433</td>\n",
              "      <td>MI</td>\n",
              "    </tr>\n",
              "    <tr>\n",
              "      <th>4</th>\n",
              "      <td>12892</td>\n",
              "      <td>CA</td>\n",
              "    </tr>\n",
              "    <tr>\n",
              "      <th>...</th>\n",
              "      <td>...</td>\n",
              "      <td>...</td>\n",
              "    </tr>\n",
              "    <tr>\n",
              "      <th>2702213</th>\n",
              "      <td>14869</td>\n",
              "      <td>UT</td>\n",
              "    </tr>\n",
              "    <tr>\n",
              "      <th>2702214</th>\n",
              "      <td>13495</td>\n",
              "      <td>LA</td>\n",
              "    </tr>\n",
              "    <tr>\n",
              "      <th>2702215</th>\n",
              "      <td>10397</td>\n",
              "      <td>GA</td>\n",
              "    </tr>\n",
              "    <tr>\n",
              "      <th>2702216</th>\n",
              "      <td>13244</td>\n",
              "      <td>TN</td>\n",
              "    </tr>\n",
              "    <tr>\n",
              "      <th>2702217</th>\n",
              "      <td>13487</td>\n",
              "      <td>MN</td>\n",
              "    </tr>\n",
              "  </tbody>\n",
              "</table>\n",
              "<p>2702218 rows × 2 columns</p>\n",
              "</div>"
            ],
            "text/plain": [
              "         รหัสสนามบินปลายทาง รัฐ\n",
              "0                     13303  FL\n",
              "1                     12478  NY\n",
              "2                     14869  UT\n",
              "3                     11433  MI\n",
              "4                     12892  CA\n",
              "...                     ...  ..\n",
              "2702213               14869  UT\n",
              "2702214               13495  LA\n",
              "2702215               10397  GA\n",
              "2702216               13244  TN\n",
              "2702217               13487  MN\n",
              "\n",
              "[2702218 rows x 2 columns]"
            ]
          },
          "metadata": {},
          "execution_count": 34
        }
      ]
    },
    {
      "cell_type": "code",
      "metadata": {
        "colab": {
          "base_uri": "https://localhost:8080/",
          "height": 112
        },
        "id": "hht21Tt9UNtG",
        "outputId": "d58a1219-2330-443e-d0e5-2442b4d17238"
      },
      "source": [
        "Top_import = flights_airports.groupby('รัฐ').count().sort_values(by=['รหัสสนามบินปลายทาง'],ascending=False) #หารัฐที่มีขาเข้ามากที่สุด\n",
        "Top_import.iloc[:1,4:5]"
      ],
      "execution_count": 50,
      "outputs": [
        {
          "output_type": "execute_result",
          "data": {
            "text/html": [
              "<div>\n",
              "<style scoped>\n",
              "    .dataframe tbody tr th:only-of-type {\n",
              "        vertical-align: middle;\n",
              "    }\n",
              "\n",
              "    .dataframe tbody tr th {\n",
              "        vertical-align: top;\n",
              "    }\n",
              "\n",
              "    .dataframe thead th {\n",
              "        text-align: right;\n",
              "    }\n",
              "</style>\n",
              "<table border=\"1\" class=\"dataframe\">\n",
              "  <thead>\n",
              "    <tr style=\"text-align: right;\">\n",
              "      <th></th>\n",
              "      <th>รหัสสนามบินปลายทาง</th>\n",
              "    </tr>\n",
              "    <tr>\n",
              "      <th>รัฐ</th>\n",
              "      <th></th>\n",
              "    </tr>\n",
              "  </thead>\n",
              "  <tbody>\n",
              "    <tr>\n",
              "      <th>CA</th>\n",
              "      <td>380429</td>\n",
              "    </tr>\n",
              "  </tbody>\n",
              "</table>\n",
              "</div>"
            ],
            "text/plain": [
              "     รหัสสนามบินปลายทาง\n",
              "รัฐ                    \n",
              "CA               380429"
            ]
          },
          "metadata": {},
          "execution_count": 50
        }
      ]
    },
    {
      "cell_type": "markdown",
      "metadata": {
        "id": "ACZozIbQcwuZ"
      },
      "source": [
        "###รัฐ CA มีจำนวนเครื่องบินขาเข้ามากที่สุด\n",
        "\n",
        "\n",
        "\n"
      ]
    },
    {
      "cell_type": "code",
      "metadata": {
        "colab": {
          "base_uri": "https://localhost:8080/",
          "height": 112
        },
        "id": "_coCt6O_ZRnP",
        "outputId": "e590eb34-2a18-4a1e-f4f6-4933b580c17d"
      },
      "source": [
        "Lowest_import = flights_airports.groupby('รัฐ').count().sort_values(by=['รหัสสนามบินปลายทาง'],ascending=True) #หารัฐที่มีขาเข้าน้อยที่สุด\n",
        "Lowest_import.iloc[:1,4:5]"
      ],
      "execution_count": 52,
      "outputs": [
        {
          "output_type": "execute_result",
          "data": {
            "text/html": [
              "<div>\n",
              "<style scoped>\n",
              "    .dataframe tbody tr th:only-of-type {\n",
              "        vertical-align: middle;\n",
              "    }\n",
              "\n",
              "    .dataframe tbody tr th {\n",
              "        vertical-align: top;\n",
              "    }\n",
              "\n",
              "    .dataframe thead th {\n",
              "        text-align: right;\n",
              "    }\n",
              "</style>\n",
              "<table border=\"1\" class=\"dataframe\">\n",
              "  <thead>\n",
              "    <tr style=\"text-align: right;\">\n",
              "      <th></th>\n",
              "      <th>รหัสสนามบินปลายทาง</th>\n",
              "    </tr>\n",
              "    <tr>\n",
              "      <th>รัฐ</th>\n",
              "      <th></th>\n",
              "    </tr>\n",
              "  </thead>\n",
              "  <tbody>\n",
              "    <tr>\n",
              "      <th>AK</th>\n",
              "      <td>7711</td>\n",
              "    </tr>\n",
              "  </tbody>\n",
              "</table>\n",
              "</div>"
            ],
            "text/plain": [
              "     รหัสสนามบินปลายทาง\n",
              "รัฐ                    \n",
              "AK                 7711"
            ]
          },
          "metadata": {},
          "execution_count": 52
        }
      ]
    },
    {
      "cell_type": "markdown",
      "metadata": {
        "id": "QNIR6DItc-2V"
      },
      "source": [
        "###รัฐ AK มีจำนวนเครื่องบินขาเข้าน้อยที่สุด\n"
      ]
    },
    {
      "cell_type": "markdown",
      "metadata": {
        "id": "YHvzLsAnPGXL"
      },
      "source": [
        "#5. วันธรรมดา หรือวันเสาร์-อาทิตย์มีเครื่องบินขาเข้ามากกว่ากัน (วันจันทร์ = 1, วันอังคาร = 2, ...) "
      ]
    },
    {
      "cell_type": "code",
      "metadata": {
        "id": "P7jNlxWHZTCp",
        "colab": {
          "base_uri": "https://localhost:8080/",
          "height": 423
        },
        "outputId": "7cddb9a7-2066-4cdd-9956-9dcc9de62005"
      },
      "source": [
        "flights_airports[['รหัสสนามบินปลายทาง','วันในสัปดาห์']] #ดูรหัสสนามบินปลายทางและวันในสัปดาห์"
      ],
      "execution_count": 55,
      "outputs": [
        {
          "output_type": "execute_result",
          "data": {
            "text/html": [
              "<div>\n",
              "<style scoped>\n",
              "    .dataframe tbody tr th:only-of-type {\n",
              "        vertical-align: middle;\n",
              "    }\n",
              "\n",
              "    .dataframe tbody tr th {\n",
              "        vertical-align: top;\n",
              "    }\n",
              "\n",
              "    .dataframe thead th {\n",
              "        text-align: right;\n",
              "    }\n",
              "</style>\n",
              "<table border=\"1\" class=\"dataframe\">\n",
              "  <thead>\n",
              "    <tr style=\"text-align: right;\">\n",
              "      <th></th>\n",
              "      <th>รหัสสนามบินปลายทาง</th>\n",
              "      <th>วันในสัปดาห์</th>\n",
              "    </tr>\n",
              "  </thead>\n",
              "  <tbody>\n",
              "    <tr>\n",
              "      <th>0</th>\n",
              "      <td>13303</td>\n",
              "      <td>5</td>\n",
              "    </tr>\n",
              "    <tr>\n",
              "      <th>1</th>\n",
              "      <td>12478</td>\n",
              "      <td>5</td>\n",
              "    </tr>\n",
              "    <tr>\n",
              "      <th>2</th>\n",
              "      <td>14869</td>\n",
              "      <td>5</td>\n",
              "    </tr>\n",
              "    <tr>\n",
              "      <th>3</th>\n",
              "      <td>11433</td>\n",
              "      <td>5</td>\n",
              "    </tr>\n",
              "    <tr>\n",
              "      <th>4</th>\n",
              "      <td>12892</td>\n",
              "      <td>5</td>\n",
              "    </tr>\n",
              "    <tr>\n",
              "      <th>...</th>\n",
              "      <td>...</td>\n",
              "      <td>...</td>\n",
              "    </tr>\n",
              "    <tr>\n",
              "      <th>2702213</th>\n",
              "      <td>14869</td>\n",
              "      <td>6</td>\n",
              "    </tr>\n",
              "    <tr>\n",
              "      <th>2702214</th>\n",
              "      <td>13495</td>\n",
              "      <td>6</td>\n",
              "    </tr>\n",
              "    <tr>\n",
              "      <th>2702215</th>\n",
              "      <td>10397</td>\n",
              "      <td>6</td>\n",
              "    </tr>\n",
              "    <tr>\n",
              "      <th>2702216</th>\n",
              "      <td>13244</td>\n",
              "      <td>6</td>\n",
              "    </tr>\n",
              "    <tr>\n",
              "      <th>2702217</th>\n",
              "      <td>13487</td>\n",
              "      <td>6</td>\n",
              "    </tr>\n",
              "  </tbody>\n",
              "</table>\n",
              "<p>2702218 rows × 2 columns</p>\n",
              "</div>"
            ],
            "text/plain": [
              "         รหัสสนามบินปลายทาง  วันในสัปดาห์\n",
              "0                     13303             5\n",
              "1                     12478             5\n",
              "2                     14869             5\n",
              "3                     11433             5\n",
              "4                     12892             5\n",
              "...                     ...           ...\n",
              "2702213               14869             6\n",
              "2702214               13495             6\n",
              "2702215               10397             6\n",
              "2702216               13244             6\n",
              "2702217               13487             6\n",
              "\n",
              "[2702218 rows x 2 columns]"
            ]
          },
          "metadata": {},
          "execution_count": 55
        }
      ]
    },
    {
      "cell_type": "code",
      "metadata": {
        "colab": {
          "base_uri": "https://localhost:8080/",
          "height": 300
        },
        "id": "TTD1TVoLlfNb",
        "outputId": "cfd1a349-30ce-442b-ca18-dc870f2e068f"
      },
      "source": [
        "week = flights_airports.groupby('วันในสัปดาห์').count().sort_values(by=['รหัสสนามบินปลายทาง'],ascending=False) #ดูจำนวนเครื่องบินขาเข้าในแต่ละวัน\n",
        "week.iloc[:,3:4]"
      ],
      "execution_count": 94,
      "outputs": [
        {
          "output_type": "execute_result",
          "data": {
            "text/html": [
              "<div>\n",
              "<style scoped>\n",
              "    .dataframe tbody tr th:only-of-type {\n",
              "        vertical-align: middle;\n",
              "    }\n",
              "\n",
              "    .dataframe tbody tr th {\n",
              "        vertical-align: top;\n",
              "    }\n",
              "\n",
              "    .dataframe thead th {\n",
              "        text-align: right;\n",
              "    }\n",
              "</style>\n",
              "<table border=\"1\" class=\"dataframe\">\n",
              "  <thead>\n",
              "    <tr style=\"text-align: right;\">\n",
              "      <th></th>\n",
              "      <th>รหัสสนามบินปลายทาง</th>\n",
              "    </tr>\n",
              "    <tr>\n",
              "      <th>วันในสัปดาห์</th>\n",
              "      <th></th>\n",
              "    </tr>\n",
              "  </thead>\n",
              "  <tbody>\n",
              "    <tr>\n",
              "      <th>1</th>\n",
              "      <td>407837</td>\n",
              "    </tr>\n",
              "    <tr>\n",
              "      <th>4</th>\n",
              "      <td>406563</td>\n",
              "    </tr>\n",
              "    <tr>\n",
              "      <th>3</th>\n",
              "      <td>403072</td>\n",
              "    </tr>\n",
              "    <tr>\n",
              "      <th>2</th>\n",
              "      <td>397594</td>\n",
              "    </tr>\n",
              "    <tr>\n",
              "      <th>5</th>\n",
              "      <td>396387</td>\n",
              "    </tr>\n",
              "    <tr>\n",
              "      <th>7</th>\n",
              "      <td>372228</td>\n",
              "    </tr>\n",
              "    <tr>\n",
              "      <th>6</th>\n",
              "      <td>318537</td>\n",
              "    </tr>\n",
              "  </tbody>\n",
              "</table>\n",
              "</div>"
            ],
            "text/plain": [
              "              รหัสสนามบินปลายทาง\n",
              "วันในสัปดาห์                    \n",
              "1                         407837\n",
              "4                         406563\n",
              "3                         403072\n",
              "2                         397594\n",
              "5                         396387\n",
              "7                         372228\n",
              "6                         318537"
            ]
          },
          "metadata": {},
          "execution_count": 94
        }
      ]
    },
    {
      "cell_type": "code",
      "metadata": {
        "colab": {
          "base_uri": "https://localhost:8080/"
        },
        "id": "CuZhJwgyrQL3",
        "outputId": "4adaa84d-f7dc-467c-c530-4a378dc1d287"
      },
      "source": [
        "Weekday = week.iloc[:5,3:4].sum() #หาจำนวนเครื่องบินขาเข้าในวันธรรมดา\n",
        "Weekday"
      ],
      "execution_count": 91,
      "outputs": [
        {
          "output_type": "execute_result",
          "data": {
            "text/plain": [
              "รหัสสนามบินปลายทาง    2011453\n",
              "dtype: int64"
            ]
          },
          "metadata": {},
          "execution_count": 91
        }
      ]
    },
    {
      "cell_type": "code",
      "metadata": {
        "colab": {
          "base_uri": "https://localhost:8080/"
        },
        "id": "vxOnO0isrkwg",
        "outputId": "b705ad2b-a957-4425-e04a-b930e8ad25e2"
      },
      "source": [
        "Weekend = week.iloc[5:7,3:4].sum() #หาจำนวนเครื่องบินขาเข้าในวัน เสาร์-อาทิตย์\n",
        "Weekend"
      ],
      "execution_count": 95,
      "outputs": [
        {
          "output_type": "execute_result",
          "data": {
            "text/plain": [
              "รหัสสนามบินปลายทาง    690765\n",
              "dtype: int64"
            ]
          },
          "metadata": {},
          "execution_count": 95
        }
      ]
    },
    {
      "cell_type": "markdown",
      "metadata": {
        "id": "6JAwmz11r7zc"
      },
      "source": [
        "###วันธรรมดามีเครื่องบินขาเข้ามากกว่าวันเสาร์-อาทิตย์"
      ]
    },
    {
      "cell_type": "markdown",
      "metadata": {
        "id": "yMvU35AhgVM5"
      },
      "source": [
        "#ชื่อสนามบินไหนมีเที่ยวบินขาออกมากที่สุดและน้อยที่สุด"
      ]
    },
    {
      "cell_type": "code",
      "metadata": {
        "colab": {
          "base_uri": "https://localhost:8080/",
          "height": 423
        },
        "id": "gJAUW88Hgotc",
        "outputId": "01304629-fb07-402e-e045-3d1b02ef635f"
      },
      "source": [
        "flights_airports[['รหัสสนามบินต้นทาง','ชื่อสนามบิน']] #ดูรหัสสนามบินต้นทางและชื่อสนามบิน"
      ],
      "execution_count": 40,
      "outputs": [
        {
          "output_type": "execute_result",
          "data": {
            "text/html": [
              "<div>\n",
              "<style scoped>\n",
              "    .dataframe tbody tr th:only-of-type {\n",
              "        vertical-align: middle;\n",
              "    }\n",
              "\n",
              "    .dataframe tbody tr th {\n",
              "        vertical-align: top;\n",
              "    }\n",
              "\n",
              "    .dataframe thead th {\n",
              "        text-align: right;\n",
              "    }\n",
              "</style>\n",
              "<table border=\"1\" class=\"dataframe\">\n",
              "  <thead>\n",
              "    <tr style=\"text-align: right;\">\n",
              "      <th></th>\n",
              "      <th>รหัสสนามบินต้นทาง</th>\n",
              "      <th>ชื่อสนามบิน</th>\n",
              "    </tr>\n",
              "  </thead>\n",
              "  <tbody>\n",
              "    <tr>\n",
              "      <th>0</th>\n",
              "      <td>11433</td>\n",
              "      <td>Miami International</td>\n",
              "    </tr>\n",
              "    <tr>\n",
              "      <th>1</th>\n",
              "      <td>14869</td>\n",
              "      <td>John F. Kennedy International</td>\n",
              "    </tr>\n",
              "    <tr>\n",
              "      <th>2</th>\n",
              "      <td>14057</td>\n",
              "      <td>Salt Lake City International</td>\n",
              "    </tr>\n",
              "    <tr>\n",
              "      <th>3</th>\n",
              "      <td>15016</td>\n",
              "      <td>Detroit Metro Wayne County</td>\n",
              "    </tr>\n",
              "    <tr>\n",
              "      <th>4</th>\n",
              "      <td>11193</td>\n",
              "      <td>Los Angeles International</td>\n",
              "    </tr>\n",
              "    <tr>\n",
              "      <th>...</th>\n",
              "      <td>...</td>\n",
              "      <td>...</td>\n",
              "    </tr>\n",
              "    <tr>\n",
              "      <th>2702213</th>\n",
              "      <td>13204</td>\n",
              "      <td>Salt Lake City International</td>\n",
              "    </tr>\n",
              "    <tr>\n",
              "      <th>2702214</th>\n",
              "      <td>10397</td>\n",
              "      <td>Louis Armstrong New Orleans International</td>\n",
              "    </tr>\n",
              "    <tr>\n",
              "      <th>2702215</th>\n",
              "      <td>10140</td>\n",
              "      <td>Hartsfield-Jackson Atlanta International</td>\n",
              "    </tr>\n",
              "    <tr>\n",
              "      <th>2702216</th>\n",
              "      <td>10397</td>\n",
              "      <td>Memphis International</td>\n",
              "    </tr>\n",
              "    <tr>\n",
              "      <th>2702217</th>\n",
              "      <td>10397</td>\n",
              "      <td>Minneapolis-St Paul International</td>\n",
              "    </tr>\n",
              "  </tbody>\n",
              "</table>\n",
              "<p>2702218 rows × 2 columns</p>\n",
              "</div>"
            ],
            "text/plain": [
              "         รหัสสนามบินต้นทาง                                ชื่อสนามบิน\n",
              "0                    11433                        Miami International\n",
              "1                    14869              John F. Kennedy International\n",
              "2                    14057               Salt Lake City International\n",
              "3                    15016                 Detroit Metro Wayne County\n",
              "4                    11193                  Los Angeles International\n",
              "...                    ...                                        ...\n",
              "2702213              13204               Salt Lake City International\n",
              "2702214              10397  Louis Armstrong New Orleans International\n",
              "2702215              10140   Hartsfield-Jackson Atlanta International\n",
              "2702216              10397                      Memphis International\n",
              "2702217              10397          Minneapolis-St Paul International\n",
              "\n",
              "[2702218 rows x 2 columns]"
            ]
          },
          "metadata": {},
          "execution_count": 40
        }
      ]
    },
    {
      "cell_type": "code",
      "metadata": {
        "colab": {
          "base_uri": "https://localhost:8080/",
          "height": 112
        },
        "id": "bAcS6OgShUls",
        "outputId": "0e661ae8-39fd-4647-a625-946ec54088f4"
      },
      "source": [
        "Top_export = flights_airports.groupby('ชื่อสนามบิน').count().sort_values(by=['รหัสสนามบินต้นทาง'],ascending=False) #หาชื่อสนามบินที่มีเครื่องบินขาออกมากที่สุด\n",
        "Top_export.iloc[:1,3:4]"
      ],
      "execution_count": 96,
      "outputs": [
        {
          "output_type": "execute_result",
          "data": {
            "text/html": [
              "<div>\n",
              "<style scoped>\n",
              "    .dataframe tbody tr th:only-of-type {\n",
              "        vertical-align: middle;\n",
              "    }\n",
              "\n",
              "    .dataframe tbody tr th {\n",
              "        vertical-align: top;\n",
              "    }\n",
              "\n",
              "    .dataframe thead th {\n",
              "        text-align: right;\n",
              "    }\n",
              "</style>\n",
              "<table border=\"1\" class=\"dataframe\">\n",
              "  <thead>\n",
              "    <tr style=\"text-align: right;\">\n",
              "      <th></th>\n",
              "      <th>รหัสสนามบินต้นทาง</th>\n",
              "    </tr>\n",
              "    <tr>\n",
              "      <th>ชื่อสนามบิน</th>\n",
              "      <th></th>\n",
              "    </tr>\n",
              "  </thead>\n",
              "  <tbody>\n",
              "    <tr>\n",
              "      <th>Hartsfield-Jackson Atlanta International</th>\n",
              "      <td>148524</td>\n",
              "    </tr>\n",
              "  </tbody>\n",
              "</table>\n",
              "</div>"
            ],
            "text/plain": [
              "                                          รหัสสนามบินต้นทาง\n",
              "ชื่อสนามบิน                                                \n",
              "Hartsfield-Jackson Atlanta International             148524"
            ]
          },
          "metadata": {},
          "execution_count": 96
        }
      ]
    },
    {
      "cell_type": "markdown",
      "metadata": {
        "id": "haxRjW3xjjt0"
      },
      "source": [
        "###สนามบิน Hartsfield-Jackson Atlanta International\t มีเครื่องบินขาออกมากที่สุด"
      ]
    },
    {
      "cell_type": "code",
      "metadata": {
        "colab": {
          "base_uri": "https://localhost:8080/",
          "height": 112
        },
        "id": "kScQ2wc9h1tX",
        "outputId": "882641d1-d7a3-425b-f0da-eb20edf22a93"
      },
      "source": [
        "Lowest_export = flights_airports.groupby('ชื่อสนามบิน').count().sort_values(by=['รหัสสนามบินต้นทาง'],ascending=True) #หาชื่อสนามบินที่มีเครื่องบินขาออกน้อยที่สุด\n",
        "Lowest_export.iloc[:1,3:4]"
      ],
      "execution_count": 97,
      "outputs": [
        {
          "output_type": "execute_result",
          "data": {
            "text/html": [
              "<div>\n",
              "<style scoped>\n",
              "    .dataframe tbody tr th:only-of-type {\n",
              "        vertical-align: middle;\n",
              "    }\n",
              "\n",
              "    .dataframe tbody tr th {\n",
              "        vertical-align: top;\n",
              "    }\n",
              "\n",
              "    .dataframe thead th {\n",
              "        text-align: right;\n",
              "    }\n",
              "</style>\n",
              "<table border=\"1\" class=\"dataframe\">\n",
              "  <thead>\n",
              "    <tr style=\"text-align: right;\">\n",
              "      <th></th>\n",
              "      <th>รหัสสนามบินต้นทาง</th>\n",
              "    </tr>\n",
              "    <tr>\n",
              "      <th>ชื่อสนามบิน</th>\n",
              "      <th></th>\n",
              "    </tr>\n",
              "  </thead>\n",
              "  <tbody>\n",
              "    <tr>\n",
              "      <th>Ted Stevens Anchorage International</th>\n",
              "      <td>7711</td>\n",
              "    </tr>\n",
              "  </tbody>\n",
              "</table>\n",
              "</div>"
            ],
            "text/plain": [
              "                                     รหัสสนามบินต้นทาง\n",
              "ชื่อสนามบิน                                           \n",
              "Ted Stevens Anchorage International               7711"
            ]
          },
          "metadata": {},
          "execution_count": 97
        }
      ]
    },
    {
      "cell_type": "markdown",
      "metadata": {
        "id": "7NxvD2K-jvt3"
      },
      "source": [
        "###สนามบิน Ted Stevens Anchorage International\t มีเครื่องบินขาออกน้อยที่สุด\n",
        "\n",
        "\n"
      ]
    }
  ]
}