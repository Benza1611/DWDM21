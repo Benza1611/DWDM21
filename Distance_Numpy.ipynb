{
  "nbformat": 4,
  "nbformat_minor": 0,
  "metadata": {
    "colab": {
      "name": "Distance Numpy.ipynb",
      "provenance": [],
      "authorship_tag": "ABX9TyOgva6uRHxw0UQSHoRa3Ooe",
      "include_colab_link": true
    },
    "kernelspec": {
      "name": "python3",
      "display_name": "Python 3"
    },
    "language_info": {
      "name": "python"
    }
  },
  "cells": [
    {
      "cell_type": "markdown",
      "metadata": {
        "id": "view-in-github",
        "colab_type": "text"
      },
      "source": [
        "<a href=\"https://colab.research.google.com/github/Benza1611/DWDM21/blob/main/Distance_Numpy.ipynb\" target=\"_parent\"><img src=\"https://colab.research.google.com/assets/colab-badge.svg\" alt=\"Open In Colab\"/></a>"
      ]
    },
    {
      "cell_type": "code",
      "metadata": {
        "id": "XqyrbTWWcvuS"
      },
      "source": [
        "import numpy as np # packege สำหรับทำงานกับข้อมูลที่เป็นตัวเลข อยู่ในรูปแบบ Matrix"
      ],
      "execution_count": 5,
      "outputs": []
    },
    {
      "cell_type": "markdown",
      "metadata": {
        "id": "gxH2EOY5dldP"
      },
      "source": [
        "#Numpy Array"
      ]
    },
    {
      "cell_type": "markdown",
      "metadata": {
        "id": "trJo78vwdpAg"
      },
      "source": [
        "###สร้าง numpy araay (matrix)"
      ]
    },
    {
      "cell_type": "code",
      "metadata": {
        "id": "YPghRF3XdlJ8"
      },
      "source": [
        "np_a = np.array([[1,2,3],[4,5,6]]) #สร้าง numpy array ที่มี 2 แถว 3 หลัก"
      ],
      "execution_count": 6,
      "outputs": []
    },
    {
      "cell_type": "code",
      "metadata": {
        "colab": {
          "base_uri": "https://localhost:8080/"
        },
        "id": "SsLDlukHdM2M",
        "outputId": "7ac3d306-895a-417e-bed0-368e6296b09d"
      },
      "source": [
        "np_a"
      ],
      "execution_count": 7,
      "outputs": [
        {
          "output_type": "execute_result",
          "data": {
            "text/plain": [
              "array([[1, 2, 3],\n",
              "       [4, 5, 6]])"
            ]
          },
          "metadata": {},
          "execution_count": 7
        }
      ]
    },
    {
      "cell_type": "code",
      "metadata": {
        "colab": {
          "base_uri": "https://localhost:8080/"
        },
        "id": "limg7TYfeAKB",
        "outputId": "b492fe07-bf19-46ba-8897-e97925a96d8c"
      },
      "source": [
        "np_a.shape"
      ],
      "execution_count": 8,
      "outputs": [
        {
          "output_type": "execute_result",
          "data": {
            "text/plain": [
              "(2, 3)"
            ]
          },
          "metadata": {},
          "execution_count": 8
        }
      ]
    },
    {
      "cell_type": "code",
      "metadata": {
        "colab": {
          "base_uri": "https://localhost:8080/"
        },
        "id": "PERF2uZMeFh4",
        "outputId": "81fb8c4c-c6b1-4a9d-adfc-1908b008887a"
      },
      "source": [
        "np_b = np.array([[1,4],[2,5],[3,6]])\n",
        "np_b"
      ],
      "execution_count": 9,
      "outputs": [
        {
          "output_type": "execute_result",
          "data": {
            "text/plain": [
              "array([[1, 4],\n",
              "       [2, 5],\n",
              "       [3, 6]])"
            ]
          },
          "metadata": {},
          "execution_count": 9
        }
      ]
    },
    {
      "cell_type": "markdown",
      "metadata": {
        "id": "1baJ4j9eexy9"
      },
      "source": [
        "###Matrix transpose"
      ]
    },
    {
      "cell_type": "code",
      "metadata": {
        "colab": {
          "base_uri": "https://localhost:8080/"
        },
        "id": "NU4W2qffecHD",
        "outputId": "1d7e439f-dbbf-4f47-93ac-a786db00d214"
      },
      "source": [
        "np_a.T"
      ],
      "execution_count": 10,
      "outputs": [
        {
          "output_type": "execute_result",
          "data": {
            "text/plain": [
              "array([[1, 4],\n",
              "       [2, 5],\n",
              "       [3, 6]])"
            ]
          },
          "metadata": {},
          "execution_count": 10
        }
      ]
    },
    {
      "cell_type": "markdown",
      "metadata": {
        "id": "JUeGuo6ke7q4"
      },
      "source": [
        "###สร้าง matrix เริ่มต้น (zeros,one)"
      ]
    },
    {
      "cell_type": "code",
      "metadata": {
        "colab": {
          "base_uri": "https://localhost:8080/"
        },
        "id": "Zp3EUPzde53Y",
        "outputId": "c015539f-2eb8-44a6-feca-020f5def65d5"
      },
      "source": [
        "np_z = np.zeros((4,5))\n",
        "np_z"
      ],
      "execution_count": 11,
      "outputs": [
        {
          "output_type": "execute_result",
          "data": {
            "text/plain": [
              "array([[0., 0., 0., 0., 0.],\n",
              "       [0., 0., 0., 0., 0.],\n",
              "       [0., 0., 0., 0., 0.],\n",
              "       [0., 0., 0., 0., 0.]])"
            ]
          },
          "metadata": {},
          "execution_count": 11
        }
      ]
    },
    {
      "cell_type": "code",
      "metadata": {
        "colab": {
          "base_uri": "https://localhost:8080/"
        },
        "id": "rR_lP6h-fi1h",
        "outputId": "cc40f9bc-b9ea-4453-8f70-162bdfa3eef5"
      },
      "source": [
        "np_0 = np.ones((5,6))\n",
        "np_0"
      ],
      "execution_count": 12,
      "outputs": [
        {
          "output_type": "execute_result",
          "data": {
            "text/plain": [
              "array([[1., 1., 1., 1., 1., 1.],\n",
              "       [1., 1., 1., 1., 1., 1.],\n",
              "       [1., 1., 1., 1., 1., 1.],\n",
              "       [1., 1., 1., 1., 1., 1.],\n",
              "       [1., 1., 1., 1., 1., 1.]])"
            ]
          },
          "metadata": {},
          "execution_count": 12
        }
      ]
    },
    {
      "cell_type": "code",
      "metadata": {
        "colab": {
          "base_uri": "https://localhost:8080/"
        },
        "id": "aDkqDKi_fqrA",
        "outputId": "9e4586fa-3db5-4e44-de11-a22da01b37aa"
      },
      "source": [
        "np_200 = 200*np.ones((4,7))\n",
        "np_200"
      ],
      "execution_count": 13,
      "outputs": [
        {
          "output_type": "execute_result",
          "data": {
            "text/plain": [
              "array([[200., 200., 200., 200., 200., 200., 200.],\n",
              "       [200., 200., 200., 200., 200., 200., 200.],\n",
              "       [200., 200., 200., 200., 200., 200., 200.],\n",
              "       [200., 200., 200., 200., 200., 200., 200.]])"
            ]
          },
          "metadata": {},
          "execution_count": 13
        }
      ]
    },
    {
      "cell_type": "markdown",
      "metadata": {
        "id": "rwSIWTwzga48"
      },
      "source": [
        "###สร้าง matrix random"
      ]
    },
    {
      "cell_type": "code",
      "metadata": {
        "colab": {
          "base_uri": "https://localhost:8080/"
        },
        "id": "jI8S_XoHgLsB",
        "outputId": "8125eee4-fa3b-4d63-c53b-79d3aed6aac9"
      },
      "source": [
        "np.random.randn(5,5) #random เลขมาจาก normal distribution ที่มี mu=0 std=1"
      ],
      "execution_count": 14,
      "outputs": [
        {
          "output_type": "execute_result",
          "data": {
            "text/plain": [
              "array([[-0.76290748,  0.50202175,  1.40738352, -0.46608143,  0.67717533],\n",
              "       [-0.20639583, -0.24298903,  0.46025218, -1.89887388,  1.47989826],\n",
              "       [-0.54883227, -0.86300749, -0.49241394, -0.50440281, -0.31292105],\n",
              "       [-0.89698347,  0.14653688, -1.03807565, -0.32464521, -1.28420657],\n",
              "       [ 0.40794103,  0.27232999, -0.92193058, -0.22173593,  1.7183383 ]])"
            ]
          },
          "metadata": {},
          "execution_count": 14
        }
      ]
    },
    {
      "cell_type": "code",
      "metadata": {
        "colab": {
          "base_uri": "https://localhost:8080/"
        },
        "id": "KpCz60YJg_3P",
        "outputId": "817cae50-e643-441a-d3f4-1eeb5244f932"
      },
      "source": [
        "2+(5*np.random.randn(3,3)) #random เลขมาจาก normal distribution ที่มี mu=2 std=5"
      ],
      "execution_count": 15,
      "outputs": [
        {
          "output_type": "execute_result",
          "data": {
            "text/plain": [
              "array([[-6.6601925 ,  5.66541952,  8.71042352],\n",
              "       [-2.7624085 ,  3.2649995 ,  0.10448071],\n",
              "       [ 0.86812925, -5.84574682,  2.80387414]])"
            ]
          },
          "metadata": {},
          "execution_count": 15
        }
      ]
    },
    {
      "cell_type": "code",
      "metadata": {
        "colab": {
          "base_uri": "https://localhost:8080/"
        },
        "id": "e1sknuvqhPjp",
        "outputId": "32241109-605e-4546-b35b-9eb6d800a4f0"
      },
      "source": [
        "np.random.randint(5,11,(4,5)) # random เลขจำนวนเต็ม ระหว่าง [5-11) ขนาด (4*5)"
      ],
      "execution_count": 16,
      "outputs": [
        {
          "output_type": "execute_result",
          "data": {
            "text/plain": [
              "array([[ 6,  8, 10,  6,  5],\n",
              "       [ 5, 10,  9,  6,  9],\n",
              "       [ 5,  6,  7,  9,  7],\n",
              "       [ 7, 10, 10,  8,  5]])"
            ]
          },
          "metadata": {},
          "execution_count": 16
        }
      ]
    },
    {
      "cell_type": "markdown",
      "metadata": {
        "id": "I-kjiVavOpQ7"
      },
      "source": [
        "###matrix properties"
      ]
    },
    {
      "cell_type": "code",
      "metadata": {
        "id": "5HOfjHrkhrpa",
        "outputId": "ae07d87a-c1be-4026-8937-f162273f468c",
        "colab": {
          "base_uri": "https://localhost:8080/"
        }
      },
      "source": [
        "np_a"
      ],
      "execution_count": 17,
      "outputs": [
        {
          "output_type": "execute_result",
          "data": {
            "text/plain": [
              "array([[1, 2, 3],\n",
              "       [4, 5, 6]])"
            ]
          },
          "metadata": {},
          "execution_count": 17
        }
      ]
    },
    {
      "cell_type": "code",
      "metadata": {
        "id": "OSh57XFhO3f6",
        "outputId": "b62d0fa5-d7cd-4ee0-82af-a0d196557e96",
        "colab": {
          "base_uri": "https://localhost:8080/"
        }
      },
      "source": [
        "np_a.T # transpose"
      ],
      "execution_count": 20,
      "outputs": [
        {
          "output_type": "execute_result",
          "data": {
            "text/plain": [
              "array([[1, 4],\n",
              "       [2, 5],\n",
              "       [3, 6]])"
            ]
          },
          "metadata": {},
          "execution_count": 20
        }
      ]
    },
    {
      "cell_type": "code",
      "metadata": {
        "id": "E7ro_XEDO5XT",
        "outputId": "9f4b6572-82be-4c4c-9d3e-f49b2594860f",
        "colab": {
          "base_uri": "https://localhost:8080/"
        }
      },
      "source": [
        "1+np_a #add scalar to matrix"
      ],
      "execution_count": 21,
      "outputs": [
        {
          "output_type": "execute_result",
          "data": {
            "text/plain": [
              "array([[2, 3, 4],\n",
              "       [5, 6, 7]])"
            ]
          },
          "metadata": {},
          "execution_count": 21
        }
      ]
    },
    {
      "cell_type": "code",
      "metadata": {
        "id": "WgDueEuFO7Ga",
        "outputId": "0ea4bab7-52f5-47e3-9f4c-4c23c3c29510",
        "colab": {
          "base_uri": "https://localhost:8080/"
        }
      },
      "source": [
        "2*np_a #multiply scalar to matrix"
      ],
      "execution_count": 22,
      "outputs": [
        {
          "output_type": "execute_result",
          "data": {
            "text/plain": [
              "array([[ 2,  4,  6],\n",
              "       [ 8, 10, 12]])"
            ]
          },
          "metadata": {},
          "execution_count": 22
        }
      ]
    },
    {
      "cell_type": "code",
      "metadata": {
        "id": "mTpt1ljWPRVv",
        "outputId": "3edb5f0b-54b9-45cd-dae8-1b67ddfe45f0",
        "colab": {
          "base_uri": "https://localhost:8080/"
        }
      },
      "source": [
        "np_c = np.array([[6,5,4],[3,2,1]])\n",
        "np_c"
      ],
      "execution_count": 23,
      "outputs": [
        {
          "output_type": "execute_result",
          "data": {
            "text/plain": [
              "array([[6, 5, 4],\n",
              "       [3, 2, 1]])"
            ]
          },
          "metadata": {},
          "execution_count": 23
        }
      ]
    },
    {
      "cell_type": "code",
      "metadata": {
        "id": "FhgPfSE9PdNR",
        "outputId": "708fc94d-1e72-4af9-a648-c32e5e552096",
        "colab": {
          "base_uri": "https://localhost:8080/"
        }
      },
      "source": [
        "np_a + np_c # adding matrix to matrix"
      ],
      "execution_count": 24,
      "outputs": [
        {
          "output_type": "execute_result",
          "data": {
            "text/plain": [
              "array([[7, 7, 7],\n",
              "       [7, 7, 7]])"
            ]
          },
          "metadata": {},
          "execution_count": 24
        }
      ]
    },
    {
      "cell_type": "code",
      "metadata": {
        "id": "leSOrSi0P0A5",
        "outputId": "f555408b-2edb-4c8b-bd0b-b76c9248fdd6",
        "colab": {
          "base_uri": "https://localhost:8080/"
        }
      },
      "source": [
        "np_a.shape"
      ],
      "execution_count": 25,
      "outputs": [
        {
          "output_type": "execute_result",
          "data": {
            "text/plain": [
              "(2, 3)"
            ]
          },
          "metadata": {},
          "execution_count": 25
        }
      ]
    },
    {
      "cell_type": "code",
      "metadata": {
        "colab": {
          "base_uri": "https://localhost:8080/"
        },
        "id": "lTgo21cvQDzB",
        "outputId": "669f1c1a-cb8c-46cb-f3d7-0b2acc5f9d21"
      },
      "source": [
        "np_c.shape"
      ],
      "execution_count": 26,
      "outputs": [
        {
          "output_type": "execute_result",
          "data": {
            "text/plain": [
              "(2, 3)"
            ]
          },
          "metadata": {},
          "execution_count": 26
        }
      ]
    },
    {
      "cell_type": "code",
      "metadata": {
        "colab": {
          "base_uri": "https://localhost:8080/"
        },
        "id": "mxsPbB-kQr5x",
        "outputId": "ab6cf1a2-8974-40f8-f7c8-d1922a48b8ad"
      },
      "source": [
        "np_c.T.shape"
      ],
      "execution_count": 30,
      "outputs": [
        {
          "output_type": "execute_result",
          "data": {
            "text/plain": [
              "(3, 2)"
            ]
          },
          "metadata": {},
          "execution_count": 30
        }
      ]
    },
    {
      "cell_type": "code",
      "metadata": {
        "id": "hFH5cWvCQGuv",
        "outputId": "ab1221c5-bbf4-4a73-8bdd-2755ed23b1cd",
        "colab": {
          "base_uri": "https://localhost:8080/"
        }
      },
      "source": [
        "np.dot(np_a,np_c.T) # multipling matrix to mxtrix (a,b) x (b,c) = (a,c)"
      ],
      "execution_count": 31,
      "outputs": [
        {
          "output_type": "execute_result",
          "data": {
            "text/plain": [
              "array([[28, 10],\n",
              "       [73, 28]])"
            ]
          },
          "metadata": {},
          "execution_count": 31
        }
      ]
    },
    {
      "cell_type": "markdown",
      "metadata": {
        "id": "rLzqLXt7RRbx"
      },
      "source": [
        "#Indexing & Slicing"
      ]
    },
    {
      "cell_type": "code",
      "metadata": {
        "id": "fgb2WEs3QcCB",
        "outputId": "9d2e9a8a-c276-4b90-f1d1-dbe22845c14d",
        "colab": {
          "base_uri": "https://localhost:8080/"
        }
      },
      "source": [
        "np_a"
      ],
      "execution_count": 32,
      "outputs": [
        {
          "output_type": "execute_result",
          "data": {
            "text/plain": [
              "array([[1, 2, 3],\n",
              "       [4, 5, 6]])"
            ]
          },
          "metadata": {},
          "execution_count": 32
        }
      ]
    },
    {
      "cell_type": "code",
      "metadata": {
        "id": "m-kVA5BnRk8Z",
        "outputId": "a40d7a92-e20c-47bd-a7f2-b47267518fec",
        "colab": {
          "base_uri": "https://localhost:8080/"
        }
      },
      "source": [
        "np_a[1,1]"
      ],
      "execution_count": 33,
      "outputs": [
        {
          "output_type": "execute_result",
          "data": {
            "text/plain": [
              "5"
            ]
          },
          "metadata": {},
          "execution_count": 33
        }
      ]
    },
    {
      "cell_type": "code",
      "metadata": {
        "id": "PCAk4XGOR89T",
        "outputId": "5e96d1a5-2508-469c-e2eb-e7bfec08ae51",
        "colab": {
          "base_uri": "https://localhost:8080/"
        }
      },
      "source": [
        "np_a[:2,:2]"
      ],
      "execution_count": 35,
      "outputs": [
        {
          "output_type": "execute_result",
          "data": {
            "text/plain": [
              "array([[1, 2],\n",
              "       [4, 5]])"
            ]
          },
          "metadata": {},
          "execution_count": 35
        }
      ]
    },
    {
      "cell_type": "code",
      "metadata": {
        "id": "nvvnqdXGSROG",
        "outputId": "eaf16219-91cf-436f-e60f-7c93b602bb8f",
        "colab": {
          "base_uri": "https://localhost:8080/"
        }
      },
      "source": [
        "np_a[0,:]"
      ],
      "execution_count": 36,
      "outputs": [
        {
          "output_type": "execute_result",
          "data": {
            "text/plain": [
              "array([1, 2, 3])"
            ]
          },
          "metadata": {},
          "execution_count": 36
        }
      ]
    },
    {
      "cell_type": "markdown",
      "metadata": {
        "id": "JDmeUWlJSx-O"
      },
      "source": [
        "#Useful functions"
      ]
    },
    {
      "cell_type": "code",
      "metadata": {
        "id": "aqrOcnKPSZWm",
        "outputId": "080894cf-bbd7-4ec2-e7ad-6fdddc0161df",
        "colab": {
          "base_uri": "https://localhost:8080/"
        }
      },
      "source": [
        "np_a"
      ],
      "execution_count": 37,
      "outputs": [
        {
          "output_type": "execute_result",
          "data": {
            "text/plain": [
              "array([[1, 2, 3],\n",
              "       [4, 5, 6]])"
            ]
          },
          "metadata": {},
          "execution_count": 37
        }
      ]
    },
    {
      "cell_type": "code",
      "metadata": {
        "id": "GpD3wf0NS4Fh",
        "outputId": "51e5bbbf-56b4-478e-8b2d-cac44137d962",
        "colab": {
          "base_uri": "https://localhost:8080/"
        }
      },
      "source": [
        "np.sum(np_a)"
      ],
      "execution_count": 38,
      "outputs": [
        {
          "output_type": "execute_result",
          "data": {
            "text/plain": [
              "21"
            ]
          },
          "metadata": {},
          "execution_count": 38
        }
      ]
    },
    {
      "cell_type": "code",
      "metadata": {
        "id": "Vune1IxyS741",
        "outputId": "cfefca06-c019-4568-ee98-945efaef2f5c",
        "colab": {
          "base_uri": "https://localhost:8080/"
        }
      },
      "source": [
        "np.sum(np_a,axis=0) # axis=0 ก็คือรวมเลขในแต่ละแถว"
      ],
      "execution_count": 45,
      "outputs": [
        {
          "output_type": "execute_result",
          "data": {
            "text/plain": [
              "array([5, 7, 9])"
            ]
          },
          "metadata": {},
          "execution_count": 45
        }
      ]
    },
    {
      "cell_type": "code",
      "metadata": {
        "id": "5mXCd2CJTFe0",
        "outputId": "bef0633e-4b4b-4d58-ce45-7dac421a2aec",
        "colab": {
          "base_uri": "https://localhost:8080/"
        }
      },
      "source": [
        "np.sum(np_a,axis=1) # axis=1 ก็คือรวมเลขในแต่ละหลัก"
      ],
      "execution_count": 46,
      "outputs": [
        {
          "output_type": "execute_result",
          "data": {
            "text/plain": [
              "array([ 6, 15])"
            ]
          },
          "metadata": {},
          "execution_count": 46
        }
      ]
    },
    {
      "cell_type": "code",
      "metadata": {
        "id": "3qgNO6meTPxY",
        "outputId": "682bb018-cc41-441b-bf69-14439b2cc7a1",
        "colab": {
          "base_uri": "https://localhost:8080/"
        }
      },
      "source": [
        "np.mean(np_a)"
      ],
      "execution_count": 47,
      "outputs": [
        {
          "output_type": "execute_result",
          "data": {
            "text/plain": [
              "3.5"
            ]
          },
          "metadata": {},
          "execution_count": 47
        }
      ]
    },
    {
      "cell_type": "code",
      "metadata": {
        "id": "pTZ_sJmGTfJH",
        "outputId": "3ed3d3fa-01e5-4fca-eedd-ddae3b863a33",
        "colab": {
          "base_uri": "https://localhost:8080/"
        }
      },
      "source": [
        "np.mean(np_a,axis=0) #หาค่า mean ของ column"
      ],
      "execution_count": 44,
      "outputs": [
        {
          "output_type": "execute_result",
          "data": {
            "text/plain": [
              "array([2.5, 3.5, 4.5])"
            ]
          },
          "metadata": {},
          "execution_count": 44
        }
      ]
    },
    {
      "cell_type": "markdown",
      "metadata": {
        "id": "8NCDFnXOUxxE"
      },
      "source": [
        "#วน loop เอง\n"
      ]
    },
    {
      "cell_type": "markdown",
      "metadata": {
        "id": "juK4Zq5mWvji"
      },
      "source": [
        "###Summation"
      ]
    },
    {
      "cell_type": "code",
      "metadata": {
        "id": "x3Oa7ITGWzPJ",
        "outputId": "9c9c23c3-1d35-47d3-c3d1-5b71c32bb2c6",
        "colab": {
          "base_uri": "https://localhost:8080/"
        }
      },
      "source": [
        "np_a.shape"
      ],
      "execution_count": 51,
      "outputs": [
        {
          "output_type": "execute_result",
          "data": {
            "text/plain": [
              "(2, 3)"
            ]
          },
          "metadata": {},
          "execution_count": 51
        }
      ]
    },
    {
      "cell_type": "code",
      "metadata": {
        "id": "aaKwOfM3T4pp",
        "outputId": "917ca159-92ee-41c0-d1b5-b439ced3c9aa",
        "colab": {
          "base_uri": "https://localhost:8080/"
        }
      },
      "source": [
        "sum_all = 0\n",
        "\n",
        "for row in range(np_a.shape[0]):\n",
        "    for col in range(np_a.shape[1]):\n",
        "        sum_all = sum_all + np_a[row,col]\n",
        "        print(f'we are at row= {row}, col= {col}  np_a[{row},{col}] = {np_a[row,col]} sum_all = {sum_all}')\n",
        "print(sum_all)"
      ],
      "execution_count": 50,
      "outputs": [
        {
          "output_type": "stream",
          "text": [
            "we are at row= 0, col= 0  np_a[0,0] = 1 sum_all = 1\n",
            "we are at row= 0, col= 1  np_a[0,1] = 2 sum_all = 3\n",
            "we are at row= 0, col= 2  np_a[0,2] = 3 sum_all = 6\n",
            "we are at row= 1, col= 0  np_a[1,0] = 4 sum_all = 10\n",
            "we are at row= 1, col= 1  np_a[1,1] = 5 sum_all = 15\n",
            "we are at row= 1, col= 2  np_a[1,2] = 6 sum_all = 21\n",
            "21\n"
          ],
          "name": "stdout"
        }
      ]
    },
    {
      "cell_type": "markdown",
      "metadata": {
        "id": "uvu_YStWW2jP"
      },
      "source": [
        "\n",
        "\n",
        "```\n",
        "np.sum(np_a,axis=0)\n",
        "```\n",
        "\n"
      ]
    },
    {
      "cell_type": "code",
      "metadata": {
        "id": "-OcXj4NlVTRc",
        "outputId": "0a66f6d3-5be4-4164-8872-6391b66ae4b1",
        "colab": {
          "base_uri": "https://localhost:8080/"
        }
      },
      "source": [
        "sum_all = np.zeros(np_a.shape[1])\n",
        "\n",
        "for row in range(np_a.shape[0]):\n",
        "    for col in range(np_a.shape[1]):\n",
        "        sum_all[col] = sum_all[col] + np_a[row,col]\n",
        "        \n",
        "print(sum_all)"
      ],
      "execution_count": 53,
      "outputs": [
        {
          "output_type": "stream",
          "text": [
            "[5. 7. 9.]\n"
          ],
          "name": "stdout"
        }
      ]
    },
    {
      "cell_type": "markdown",
      "metadata": {
        "id": "FLb9jXs7YrTR"
      },
      "source": [
        "#Quiz กลุ่ม\n",
        "\n",
        "วนลูปหาค่า\n",
        "\n",
        "* ```np.sum(np_a,axis=1)```\n",
        "* ```np.mean(np_a)```\n",
        "* ```np.mean(np_a,axis=0)```\n",
        "* ```np.mean(np_a,axis=1)```"
      ]
    },
    {
      "cell_type": "markdown",
      "metadata": {
        "id": "NzDQlvxacraR"
      },
      "source": [
        "#ข้อ5"
      ]
    },
    {
      "cell_type": "code",
      "metadata": {
        "id": "kgwRWKsncpg0",
        "outputId": "59a2e57d-7308-41b9-f32f-edf57de79dbb",
        "colab": {
          "base_uri": "https://localhost:8080/"
        }
      },
      "source": [
        "np_a"
      ],
      "execution_count": 58,
      "outputs": [
        {
          "output_type": "execute_result",
          "data": {
            "text/plain": [
              "array([[1, 2, 3],\n",
              "       [4, 5, 6]])"
            ]
          },
          "metadata": {},
          "execution_count": 58
        }
      ]
    },
    {
      "cell_type": "code",
      "metadata": {
        "id": "deETm7dQa1TW",
        "outputId": "9418ce4c-938b-496e-9a72-7c0df80bff41",
        "colab": {
          "base_uri": "https://localhost:8080/"
        }
      },
      "source": [
        "max_a = 0\n",
        "\n",
        "\n",
        "for row in range(np_a.shape[0]):\n",
        "    for col in range(np_a.shape[1]):\n",
        "        if max_a >= 0:\n",
        "            max_a =np_a[row,col]\n",
        "print(max_a)"
      ],
      "execution_count": 57,
      "outputs": [
        {
          "output_type": "stream",
          "text": [
            "6\n"
          ],
          "name": "stdout"
        }
      ]
    },
    {
      "cell_type": "code",
      "metadata": {
        "id": "NgSVwe4ecXok"
      },
      "source": [
        ""
      ],
      "execution_count": null,
      "outputs": []
    }
  ]
}